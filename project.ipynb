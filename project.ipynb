{
 "cells": [
  {
   "cell_type": "markdown",
   "metadata": {},
   "source": [
    "### Merge the training and the test sets to create one data set."
   ]
  },
  {
   "cell_type": "code",
   "execution_count": 1,
   "metadata": {},
   "outputs": [],
   "source": [
    "test <- data.table::fread(file = \"./UCI HAR Dataset/test/X_test.txt\")\n",
    "train <- data.table::fread(file = \"./UCI HAR Dataset/train/X_train.txt\")\n",
    "y_test <- data.table::fread(file = \"./UCI HAR Dataset/test/y_test.txt\")\n",
    "y_train <- data.table::fread(file = \"./UCI HAR Dataset/train/y_train.txt\")"
   ]
  },
  {
   "cell_type": "code",
   "execution_count": 2,
   "metadata": {},
   "outputs": [],
   "source": [
    "subject_test <- data.table::fread(file = \"./UCI HAR Dataset/test/subject_test.txt\")\n",
    "subject_train <- data.table::fread(file = \"./UCI HAR Dataset/train/subject_train.txt\")"
   ]
  },
  {
   "cell_type": "code",
   "execution_count": 3,
   "metadata": {},
   "outputs": [],
   "source": [
    "test <- cbind(y_test, test)\n",
    "test <- cbind(subject_test, test)\n",
    "train <- cbind(y_train, train)\n",
    "train <- cbind(subject_train, train)"
   ]
  },
  {
   "cell_type": "code",
   "execution_count": 4,
   "metadata": {},
   "outputs": [],
   "source": [
    "data <- rbind(test, train)"
   ]
  },
  {
   "cell_type": "markdown",
   "metadata": {},
   "source": [
    "### Extract only the measurements on the mean and standard deviation for each measurement"
   ]
  },
  {
   "cell_type": "code",
   "execution_count": 5,
   "metadata": {},
   "outputs": [],
   "source": [
    "features <- data.table::fread(file = \"./UCI HAR Dataset/features.txt\")"
   ]
  },
  {
   "cell_type": "code",
   "execution_count": 6,
   "metadata": {},
   "outputs": [
    {
     "data": {
      "text/html": [
       "<table>\n",
       "<thead><tr><th scope=col>V1</th><th scope=col>V2</th></tr></thead>\n",
       "<tbody>\n",
       "\t<tr><td>1                </td><td>tBodyAcc-mean()-X</td></tr>\n",
       "\t<tr><td>2                </td><td>tBodyAcc-mean()-Y</td></tr>\n",
       "\t<tr><td>3                </td><td>tBodyAcc-mean()-Z</td></tr>\n",
       "\t<tr><td>4                </td><td>tBodyAcc-std()-X </td></tr>\n",
       "\t<tr><td>5                </td><td>tBodyAcc-std()-Y </td></tr>\n",
       "\t<tr><td>6                </td><td>tBodyAcc-std()-Z </td></tr>\n",
       "</tbody>\n",
       "</table>\n"
      ],
      "text/latex": [
       "\\begin{tabular}{r|ll}\n",
       " V1 & V2\\\\\n",
       "\\hline\n",
       "\t 1                 & tBodyAcc-mean()-X\\\\\n",
       "\t 2                 & tBodyAcc-mean()-Y\\\\\n",
       "\t 3                 & tBodyAcc-mean()-Z\\\\\n",
       "\t 4                 & tBodyAcc-std()-X \\\\\n",
       "\t 5                 & tBodyAcc-std()-Y \\\\\n",
       "\t 6                 & tBodyAcc-std()-Z \\\\\n",
       "\\end{tabular}\n"
      ],
      "text/markdown": [
       "\n",
       "| V1 | V2 |\n",
       "|---|---|\n",
       "| 1                 | tBodyAcc-mean()-X |\n",
       "| 2                 | tBodyAcc-mean()-Y |\n",
       "| 3                 | tBodyAcc-mean()-Z |\n",
       "| 4                 | tBodyAcc-std()-X  |\n",
       "| 5                 | tBodyAcc-std()-Y  |\n",
       "| 6                 | tBodyAcc-std()-Z  |\n",
       "\n"
      ],
      "text/plain": [
       "  V1 V2               \n",
       "1 1  tBodyAcc-mean()-X\n",
       "2 2  tBodyAcc-mean()-Y\n",
       "3 3  tBodyAcc-mean()-Z\n",
       "4 4  tBodyAcc-std()-X \n",
       "5 5  tBodyAcc-std()-Y \n",
       "6 6  tBodyAcc-std()-Z "
      ]
     },
     "metadata": {},
     "output_type": "display_data"
    }
   ],
   "source": [
    "head(features)"
   ]
  },
  {
   "cell_type": "code",
   "execution_count": 7,
   "metadata": {},
   "outputs": [],
   "source": [
    "mean_std_raw <- grep(\"mean()|std()\", features$V2)"
   ]
  },
  {
   "cell_type": "code",
   "execution_count": 8,
   "metadata": {},
   "outputs": [
    {
     "data": {
      "text/html": [
       "<ol class=list-inline>\n",
       "\t<li>1</li>\n",
       "\t<li>2</li>\n",
       "\t<li>3</li>\n",
       "\t<li>4</li>\n",
       "\t<li>5</li>\n",
       "\t<li>6</li>\n",
       "</ol>\n"
      ],
      "text/latex": [
       "\\begin{enumerate*}\n",
       "\\item 1\n",
       "\\item 2\n",
       "\\item 3\n",
       "\\item 4\n",
       "\\item 5\n",
       "\\item 6\n",
       "\\end{enumerate*}\n"
      ],
      "text/markdown": [
       "1. 1\n",
       "2. 2\n",
       "3. 3\n",
       "4. 4\n",
       "5. 5\n",
       "6. 6\n",
       "\n",
       "\n"
      ],
      "text/plain": [
       "[1] 1 2 3 4 5 6"
      ]
     },
     "metadata": {},
     "output_type": "display_data"
    }
   ],
   "source": [
    "head(mean_std_raw)"
   ]
  },
  {
   "cell_type": "code",
   "execution_count": 9,
   "metadata": {},
   "outputs": [],
   "source": [
    "mean_std <- c(1, 2, mean_std_raw +2)"
   ]
  },
  {
   "cell_type": "code",
   "execution_count": 10,
   "metadata": {},
   "outputs": [
    {
     "data": {
      "text/html": [
       "<ol class=list-inline>\n",
       "\t<li>1</li>\n",
       "\t<li>2</li>\n",
       "\t<li>3</li>\n",
       "\t<li>4</li>\n",
       "\t<li>5</li>\n",
       "\t<li>6</li>\n",
       "</ol>\n"
      ],
      "text/latex": [
       "\\begin{enumerate*}\n",
       "\\item 1\n",
       "\\item 2\n",
       "\\item 3\n",
       "\\item 4\n",
       "\\item 5\n",
       "\\item 6\n",
       "\\end{enumerate*}\n"
      ],
      "text/markdown": [
       "1. 1\n",
       "2. 2\n",
       "3. 3\n",
       "4. 4\n",
       "5. 5\n",
       "6. 6\n",
       "\n",
       "\n"
      ],
      "text/plain": [
       "[1] 1 2 3 4 5 6"
      ]
     },
     "metadata": {},
     "output_type": "display_data"
    }
   ],
   "source": [
    "head(mean_std)"
   ]
  },
  {
   "cell_type": "code",
   "execution_count": 11,
   "metadata": {},
   "outputs": [],
   "source": [
    "data <- data[, ..mean_std]"
   ]
  },
  {
   "cell_type": "code",
   "execution_count": 12,
   "metadata": {},
   "outputs": [
    {
     "data": {
      "text/html": [
       "<table>\n",
       "<thead><tr><th scope=col>V1</th><th scope=col>V1.1</th><th scope=col>V1.2</th><th scope=col>V2</th><th scope=col>V3</th><th scope=col>V4</th><th scope=col>V5</th><th scope=col>V6</th><th scope=col>V41</th><th scope=col>V42</th><th scope=col>...</th><th scope=col>V513</th><th scope=col>V516</th><th scope=col>V517</th><th scope=col>V526</th><th scope=col>V529</th><th scope=col>V530</th><th scope=col>V539</th><th scope=col>V542</th><th scope=col>V543</th><th scope=col>V552</th></tr></thead>\n",
       "<tbody>\n",
       "\t<tr><td>2          </td><td>5          </td><td>0.2571778  </td><td>-0.02328523</td><td>-0.01465376</td><td>-0.9384040 </td><td>-0.9200908 </td><td>-0.6676833 </td><td>0.9364893  </td><td>-0.2827192 </td><td>...        </td><td>-0.48345254</td><td>-0.8950612 </td><td>-0.8963596 </td><td>-0.03535579</td><td>-0.7706100 </td><td>-0.7971128 </td><td>-0.04739130</td><td>-0.8901655 </td><td>-0.9073076 </td><td> 0.07164545</td></tr>\n",
       "\t<tr><td>2          </td><td>5          </td><td>0.2860267  </td><td>-0.01316336</td><td>-0.11908252</td><td>-0.9754147 </td><td>-0.9674579 </td><td>-0.9449582 </td><td>0.9274036  </td><td>-0.2892151 </td><td>...        </td><td> 0.20346524</td><td>-0.9454372 </td><td>-0.9341520 </td><td>-0.49121253</td><td>-0.9244608 </td><td>-0.9167741 </td><td>-0.03147392</td><td>-0.9519774 </td><td>-0.9382124 </td><td>-0.40118872</td></tr>\n",
       "\t<tr><td>2          </td><td>5          </td><td>0.2754848  </td><td>-0.02605042</td><td>-0.11815167</td><td>-0.9938190 </td><td>-0.9699255 </td><td>-0.9627480 </td><td>0.9299150  </td><td>-0.2875128 </td><td>...        </td><td> 0.34245571</td><td>-0.9710690 </td><td>-0.9703078 </td><td> 0.14072902</td><td>-0.9752095 </td><td>-0.9739984 </td><td>-0.16880542</td><td>-0.9856888 </td><td>-0.9832727 </td><td> 0.06289131</td></tr>\n",
       "\t<tr><td>2          </td><td>5          </td><td>0.2702982  </td><td>-0.03261387</td><td>-0.11752018</td><td>-0.9947428 </td><td>-0.9732676 </td><td>-0.9670907 </td><td>0.9288814  </td><td>-0.2933958 </td><td>...        </td><td> 0.33120550</td><td>-0.9716545 </td><td>-0.9784844 </td><td> 0.14864853</td><td>-0.9762973 </td><td>-0.9712482 </td><td>-0.28563574</td><td>-0.9855619 </td><td>-0.9858429 </td><td> 0.11669529</td></tr>\n",
       "\t<tr><td>2          </td><td>5          </td><td>0.2748330  </td><td>-0.02784779</td><td>-0.12952716</td><td>-0.9938525 </td><td>-0.9674455 </td><td>-0.9782950 </td><td>0.9265997  </td><td>-0.3029609 </td><td>...        </td><td> 0.07111154</td><td>-0.9874888 </td><td>-0.9897160 </td><td> 0.42224872</td><td>-0.9770070 </td><td>-0.9696193 </td><td>-0.34906064</td><td>-0.9904980 </td><td>-0.9905719 </td><td>-0.12171128</td></tr>\n",
       "\t<tr><td>2          </td><td>5          </td><td>0.2792199  </td><td>-0.01862040</td><td>-0.11390197</td><td>-0.9944552 </td><td>-0.9704169 </td><td>-0.9653163 </td><td>0.9256632  </td><td>-0.3089397 </td><td>...        </td><td>-0.04345482</td><td>-0.9912947 </td><td>-0.9917440 </td><td> 0.40441535</td><td>-0.9770345 </td><td>-0.9750513 </td><td>-0.17703141</td><td>-0.9887326 </td><td>-0.9898050 </td><td> 0.08360294</td></tr>\n",
       "</tbody>\n",
       "</table>\n"
      ],
      "text/latex": [
       "\\begin{tabular}{r|lllllllllllllllllllllllllllllllllllllllllllllllllllllllllllllllllllllllllllllllll}\n",
       " V1 & V1.1 & V1.2 & V2 & V3 & V4 & V5 & V6 & V41 & V42 & ... & V513 & V516 & V517 & V526 & V529 & V530 & V539 & V542 & V543 & V552\\\\\n",
       "\\hline\n",
       "\t 2           & 5           & 0.2571778   & -0.02328523 & -0.01465376 & -0.9384040  & -0.9200908  & -0.6676833  & 0.9364893   & -0.2827192  & ...         & -0.48345254 & -0.8950612  & -0.8963596  & -0.03535579 & -0.7706100  & -0.7971128  & -0.04739130 & -0.8901655  & -0.9073076  &  0.07164545\\\\\n",
       "\t 2           & 5           & 0.2860267   & -0.01316336 & -0.11908252 & -0.9754147  & -0.9674579  & -0.9449582  & 0.9274036   & -0.2892151  & ...         &  0.20346524 & -0.9454372  & -0.9341520  & -0.49121253 & -0.9244608  & -0.9167741  & -0.03147392 & -0.9519774  & -0.9382124  & -0.40118872\\\\\n",
       "\t 2           & 5           & 0.2754848   & -0.02605042 & -0.11815167 & -0.9938190  & -0.9699255  & -0.9627480  & 0.9299150   & -0.2875128  & ...         &  0.34245571 & -0.9710690  & -0.9703078  &  0.14072902 & -0.9752095  & -0.9739984  & -0.16880542 & -0.9856888  & -0.9832727  &  0.06289131\\\\\n",
       "\t 2           & 5           & 0.2702982   & -0.03261387 & -0.11752018 & -0.9947428  & -0.9732676  & -0.9670907  & 0.9288814   & -0.2933958  & ...         &  0.33120550 & -0.9716545  & -0.9784844  &  0.14864853 & -0.9762973  & -0.9712482  & -0.28563574 & -0.9855619  & -0.9858429  &  0.11669529\\\\\n",
       "\t 2           & 5           & 0.2748330   & -0.02784779 & -0.12952716 & -0.9938525  & -0.9674455  & -0.9782950  & 0.9265997   & -0.3029609  & ...         &  0.07111154 & -0.9874888  & -0.9897160  &  0.42224872 & -0.9770070  & -0.9696193  & -0.34906064 & -0.9904980  & -0.9905719  & -0.12171128\\\\\n",
       "\t 2           & 5           & 0.2792199   & -0.01862040 & -0.11390197 & -0.9944552  & -0.9704169  & -0.9653163  & 0.9256632   & -0.3089397  & ...         & -0.04345482 & -0.9912947  & -0.9917440  &  0.40441535 & -0.9770345  & -0.9750513  & -0.17703141 & -0.9887326  & -0.9898050  &  0.08360294\\\\\n",
       "\\end{tabular}\n"
      ],
      "text/markdown": [
       "\n",
       "| V1 | V1.1 | V1.2 | V2 | V3 | V4 | V5 | V6 | V41 | V42 | ... | V513 | V516 | V517 | V526 | V529 | V530 | V539 | V542 | V543 | V552 |\n",
       "|---|---|---|---|---|---|---|---|---|---|---|---|---|---|---|---|---|---|---|---|---|\n",
       "| 2           | 5           | 0.2571778   | -0.02328523 | -0.01465376 | -0.9384040  | -0.9200908  | -0.6676833  | 0.9364893   | -0.2827192  | ...         | -0.48345254 | -0.8950612  | -0.8963596  | -0.03535579 | -0.7706100  | -0.7971128  | -0.04739130 | -0.8901655  | -0.9073076  |  0.07164545 |\n",
       "| 2           | 5           | 0.2860267   | -0.01316336 | -0.11908252 | -0.9754147  | -0.9674579  | -0.9449582  | 0.9274036   | -0.2892151  | ...         |  0.20346524 | -0.9454372  | -0.9341520  | -0.49121253 | -0.9244608  | -0.9167741  | -0.03147392 | -0.9519774  | -0.9382124  | -0.40118872 |\n",
       "| 2           | 5           | 0.2754848   | -0.02605042 | -0.11815167 | -0.9938190  | -0.9699255  | -0.9627480  | 0.9299150   | -0.2875128  | ...         |  0.34245571 | -0.9710690  | -0.9703078  |  0.14072902 | -0.9752095  | -0.9739984  | -0.16880542 | -0.9856888  | -0.9832727  |  0.06289131 |\n",
       "| 2           | 5           | 0.2702982   | -0.03261387 | -0.11752018 | -0.9947428  | -0.9732676  | -0.9670907  | 0.9288814   | -0.2933958  | ...         |  0.33120550 | -0.9716545  | -0.9784844  |  0.14864853 | -0.9762973  | -0.9712482  | -0.28563574 | -0.9855619  | -0.9858429  |  0.11669529 |\n",
       "| 2           | 5           | 0.2748330   | -0.02784779 | -0.12952716 | -0.9938525  | -0.9674455  | -0.9782950  | 0.9265997   | -0.3029609  | ...         |  0.07111154 | -0.9874888  | -0.9897160  |  0.42224872 | -0.9770070  | -0.9696193  | -0.34906064 | -0.9904980  | -0.9905719  | -0.12171128 |\n",
       "| 2           | 5           | 0.2792199   | -0.01862040 | -0.11390197 | -0.9944552  | -0.9704169  | -0.9653163  | 0.9256632   | -0.3089397  | ...         | -0.04345482 | -0.9912947  | -0.9917440  |  0.40441535 | -0.9770345  | -0.9750513  | -0.17703141 | -0.9887326  | -0.9898050  |  0.08360294 |\n",
       "\n"
      ],
      "text/plain": [
       "  V1 V1.1 V1.2      V2          V3          V4         V5         V6        \n",
       "1 2  5    0.2571778 -0.02328523 -0.01465376 -0.9384040 -0.9200908 -0.6676833\n",
       "2 2  5    0.2860267 -0.01316336 -0.11908252 -0.9754147 -0.9674579 -0.9449582\n",
       "3 2  5    0.2754848 -0.02605042 -0.11815167 -0.9938190 -0.9699255 -0.9627480\n",
       "4 2  5    0.2702982 -0.03261387 -0.11752018 -0.9947428 -0.9732676 -0.9670907\n",
       "5 2  5    0.2748330 -0.02784779 -0.12952716 -0.9938525 -0.9674455 -0.9782950\n",
       "6 2  5    0.2792199 -0.01862040 -0.11390197 -0.9944552 -0.9704169 -0.9653163\n",
       "  V41       V42        ... V513        V516       V517       V526       \n",
       "1 0.9364893 -0.2827192 ... -0.48345254 -0.8950612 -0.8963596 -0.03535579\n",
       "2 0.9274036 -0.2892151 ...  0.20346524 -0.9454372 -0.9341520 -0.49121253\n",
       "3 0.9299150 -0.2875128 ...  0.34245571 -0.9710690 -0.9703078  0.14072902\n",
       "4 0.9288814 -0.2933958 ...  0.33120550 -0.9716545 -0.9784844  0.14864853\n",
       "5 0.9265997 -0.3029609 ...  0.07111154 -0.9874888 -0.9897160  0.42224872\n",
       "6 0.9256632 -0.3089397 ... -0.04345482 -0.9912947 -0.9917440  0.40441535\n",
       "  V529       V530       V539        V542       V543       V552       \n",
       "1 -0.7706100 -0.7971128 -0.04739130 -0.8901655 -0.9073076  0.07164545\n",
       "2 -0.9244608 -0.9167741 -0.03147392 -0.9519774 -0.9382124 -0.40118872\n",
       "3 -0.9752095 -0.9739984 -0.16880542 -0.9856888 -0.9832727  0.06289131\n",
       "4 -0.9762973 -0.9712482 -0.28563574 -0.9855619 -0.9858429  0.11669529\n",
       "5 -0.9770070 -0.9696193 -0.34906064 -0.9904980 -0.9905719 -0.12171128\n",
       "6 -0.9770345 -0.9750513 -0.17703141 -0.9887326 -0.9898050  0.08360294"
      ]
     },
     "metadata": {},
     "output_type": "display_data"
    }
   ],
   "source": [
    "head(data)"
   ]
  },
  {
   "cell_type": "markdown",
   "metadata": {},
   "source": [
    "### Use descriptive activity names to name the activities in the data set"
   ]
  },
  {
   "cell_type": "code",
   "execution_count": 13,
   "metadata": {},
   "outputs": [],
   "source": [
    "activity_names = c(\"WALKING\",\n",
    "                   \"WALKING_UPSTAIRS\",\n",
    "                   \"WALKING_DOWNSTAIRS\",\n",
    "                   \"SITTING\",\n",
    "                   \"STANDING\",\n",
    "                   \"LAYING\")"
   ]
  },
  {
   "cell_type": "code",
   "execution_count": 14,
   "metadata": {},
   "outputs": [],
   "source": [
    "data[,2] <- activity_names[unlist(data[,2])]"
   ]
  },
  {
   "cell_type": "code",
   "execution_count": 15,
   "metadata": {},
   "outputs": [
    {
     "data": {
      "text/html": [
       "<table>\n",
       "<thead><tr><th scope=col>V1</th><th scope=col>V1.1</th><th scope=col>V1.2</th><th scope=col>V2</th><th scope=col>V3</th><th scope=col>V4</th><th scope=col>V5</th><th scope=col>V6</th><th scope=col>V41</th><th scope=col>V42</th><th scope=col>...</th><th scope=col>V513</th><th scope=col>V516</th><th scope=col>V517</th><th scope=col>V526</th><th scope=col>V529</th><th scope=col>V530</th><th scope=col>V539</th><th scope=col>V542</th><th scope=col>V543</th><th scope=col>V552</th></tr></thead>\n",
       "<tbody>\n",
       "\t<tr><td>2          </td><td>STANDING   </td><td>0.2571778  </td><td>-0.02328523</td><td>-0.01465376</td><td>-0.9384040 </td><td>-0.9200908 </td><td>-0.6676833 </td><td>0.9364893  </td><td>-0.2827192 </td><td>...        </td><td>-0.48345254</td><td>-0.8950612 </td><td>-0.8963596 </td><td>-0.03535579</td><td>-0.7706100 </td><td>-0.7971128 </td><td>-0.04739130</td><td>-0.8901655 </td><td>-0.9073076 </td><td> 0.07164545</td></tr>\n",
       "\t<tr><td>2          </td><td>STANDING   </td><td>0.2860267  </td><td>-0.01316336</td><td>-0.11908252</td><td>-0.9754147 </td><td>-0.9674579 </td><td>-0.9449582 </td><td>0.9274036  </td><td>-0.2892151 </td><td>...        </td><td> 0.20346524</td><td>-0.9454372 </td><td>-0.9341520 </td><td>-0.49121253</td><td>-0.9244608 </td><td>-0.9167741 </td><td>-0.03147392</td><td>-0.9519774 </td><td>-0.9382124 </td><td>-0.40118872</td></tr>\n",
       "\t<tr><td>2          </td><td>STANDING   </td><td>0.2754848  </td><td>-0.02605042</td><td>-0.11815167</td><td>-0.9938190 </td><td>-0.9699255 </td><td>-0.9627480 </td><td>0.9299150  </td><td>-0.2875128 </td><td>...        </td><td> 0.34245571</td><td>-0.9710690 </td><td>-0.9703078 </td><td> 0.14072902</td><td>-0.9752095 </td><td>-0.9739984 </td><td>-0.16880542</td><td>-0.9856888 </td><td>-0.9832727 </td><td> 0.06289131</td></tr>\n",
       "\t<tr><td>2          </td><td>STANDING   </td><td>0.2702982  </td><td>-0.03261387</td><td>-0.11752018</td><td>-0.9947428 </td><td>-0.9732676 </td><td>-0.9670907 </td><td>0.9288814  </td><td>-0.2933958 </td><td>...        </td><td> 0.33120550</td><td>-0.9716545 </td><td>-0.9784844 </td><td> 0.14864853</td><td>-0.9762973 </td><td>-0.9712482 </td><td>-0.28563574</td><td>-0.9855619 </td><td>-0.9858429 </td><td> 0.11669529</td></tr>\n",
       "\t<tr><td>2          </td><td>STANDING   </td><td>0.2748330  </td><td>-0.02784779</td><td>-0.12952716</td><td>-0.9938525 </td><td>-0.9674455 </td><td>-0.9782950 </td><td>0.9265997  </td><td>-0.3029609 </td><td>...        </td><td> 0.07111154</td><td>-0.9874888 </td><td>-0.9897160 </td><td> 0.42224872</td><td>-0.9770070 </td><td>-0.9696193 </td><td>-0.34906064</td><td>-0.9904980 </td><td>-0.9905719 </td><td>-0.12171128</td></tr>\n",
       "\t<tr><td>2          </td><td>STANDING   </td><td>0.2792199  </td><td>-0.01862040</td><td>-0.11390197</td><td>-0.9944552 </td><td>-0.9704169 </td><td>-0.9653163 </td><td>0.9256632  </td><td>-0.3089397 </td><td>...        </td><td>-0.04345482</td><td>-0.9912947 </td><td>-0.9917440 </td><td> 0.40441535</td><td>-0.9770345 </td><td>-0.9750513 </td><td>-0.17703141</td><td>-0.9887326 </td><td>-0.9898050 </td><td> 0.08360294</td></tr>\n",
       "</tbody>\n",
       "</table>\n"
      ],
      "text/latex": [
       "\\begin{tabular}{r|lllllllllllllllllllllllllllllllllllllllllllllllllllllllllllllllllllllllllllllllll}\n",
       " V1 & V1.1 & V1.2 & V2 & V3 & V4 & V5 & V6 & V41 & V42 & ... & V513 & V516 & V517 & V526 & V529 & V530 & V539 & V542 & V543 & V552\\\\\n",
       "\\hline\n",
       "\t 2           & STANDING    & 0.2571778   & -0.02328523 & -0.01465376 & -0.9384040  & -0.9200908  & -0.6676833  & 0.9364893   & -0.2827192  & ...         & -0.48345254 & -0.8950612  & -0.8963596  & -0.03535579 & -0.7706100  & -0.7971128  & -0.04739130 & -0.8901655  & -0.9073076  &  0.07164545\\\\\n",
       "\t 2           & STANDING    & 0.2860267   & -0.01316336 & -0.11908252 & -0.9754147  & -0.9674579  & -0.9449582  & 0.9274036   & -0.2892151  & ...         &  0.20346524 & -0.9454372  & -0.9341520  & -0.49121253 & -0.9244608  & -0.9167741  & -0.03147392 & -0.9519774  & -0.9382124  & -0.40118872\\\\\n",
       "\t 2           & STANDING    & 0.2754848   & -0.02605042 & -0.11815167 & -0.9938190  & -0.9699255  & -0.9627480  & 0.9299150   & -0.2875128  & ...         &  0.34245571 & -0.9710690  & -0.9703078  &  0.14072902 & -0.9752095  & -0.9739984  & -0.16880542 & -0.9856888  & -0.9832727  &  0.06289131\\\\\n",
       "\t 2           & STANDING    & 0.2702982   & -0.03261387 & -0.11752018 & -0.9947428  & -0.9732676  & -0.9670907  & 0.9288814   & -0.2933958  & ...         &  0.33120550 & -0.9716545  & -0.9784844  &  0.14864853 & -0.9762973  & -0.9712482  & -0.28563574 & -0.9855619  & -0.9858429  &  0.11669529\\\\\n",
       "\t 2           & STANDING    & 0.2748330   & -0.02784779 & -0.12952716 & -0.9938525  & -0.9674455  & -0.9782950  & 0.9265997   & -0.3029609  & ...         &  0.07111154 & -0.9874888  & -0.9897160  &  0.42224872 & -0.9770070  & -0.9696193  & -0.34906064 & -0.9904980  & -0.9905719  & -0.12171128\\\\\n",
       "\t 2           & STANDING    & 0.2792199   & -0.01862040 & -0.11390197 & -0.9944552  & -0.9704169  & -0.9653163  & 0.9256632   & -0.3089397  & ...         & -0.04345482 & -0.9912947  & -0.9917440  &  0.40441535 & -0.9770345  & -0.9750513  & -0.17703141 & -0.9887326  & -0.9898050  &  0.08360294\\\\\n",
       "\\end{tabular}\n"
      ],
      "text/markdown": [
       "\n",
       "| V1 | V1.1 | V1.2 | V2 | V3 | V4 | V5 | V6 | V41 | V42 | ... | V513 | V516 | V517 | V526 | V529 | V530 | V539 | V542 | V543 | V552 |\n",
       "|---|---|---|---|---|---|---|---|---|---|---|---|---|---|---|---|---|---|---|---|---|\n",
       "| 2           | STANDING    | 0.2571778   | -0.02328523 | -0.01465376 | -0.9384040  | -0.9200908  | -0.6676833  | 0.9364893   | -0.2827192  | ...         | -0.48345254 | -0.8950612  | -0.8963596  | -0.03535579 | -0.7706100  | -0.7971128  | -0.04739130 | -0.8901655  | -0.9073076  |  0.07164545 |\n",
       "| 2           | STANDING    | 0.2860267   | -0.01316336 | -0.11908252 | -0.9754147  | -0.9674579  | -0.9449582  | 0.9274036   | -0.2892151  | ...         |  0.20346524 | -0.9454372  | -0.9341520  | -0.49121253 | -0.9244608  | -0.9167741  | -0.03147392 | -0.9519774  | -0.9382124  | -0.40118872 |\n",
       "| 2           | STANDING    | 0.2754848   | -0.02605042 | -0.11815167 | -0.9938190  | -0.9699255  | -0.9627480  | 0.9299150   | -0.2875128  | ...         |  0.34245571 | -0.9710690  | -0.9703078  |  0.14072902 | -0.9752095  | -0.9739984  | -0.16880542 | -0.9856888  | -0.9832727  |  0.06289131 |\n",
       "| 2           | STANDING    | 0.2702982   | -0.03261387 | -0.11752018 | -0.9947428  | -0.9732676  | -0.9670907  | 0.9288814   | -0.2933958  | ...         |  0.33120550 | -0.9716545  | -0.9784844  |  0.14864853 | -0.9762973  | -0.9712482  | -0.28563574 | -0.9855619  | -0.9858429  |  0.11669529 |\n",
       "| 2           | STANDING    | 0.2748330   | -0.02784779 | -0.12952716 | -0.9938525  | -0.9674455  | -0.9782950  | 0.9265997   | -0.3029609  | ...         |  0.07111154 | -0.9874888  | -0.9897160  |  0.42224872 | -0.9770070  | -0.9696193  | -0.34906064 | -0.9904980  | -0.9905719  | -0.12171128 |\n",
       "| 2           | STANDING    | 0.2792199   | -0.01862040 | -0.11390197 | -0.9944552  | -0.9704169  | -0.9653163  | 0.9256632   | -0.3089397  | ...         | -0.04345482 | -0.9912947  | -0.9917440  |  0.40441535 | -0.9770345  | -0.9750513  | -0.17703141 | -0.9887326  | -0.9898050  |  0.08360294 |\n",
       "\n"
      ],
      "text/plain": [
       "  V1 V1.1     V1.2      V2          V3          V4         V5        \n",
       "1 2  STANDING 0.2571778 -0.02328523 -0.01465376 -0.9384040 -0.9200908\n",
       "2 2  STANDING 0.2860267 -0.01316336 -0.11908252 -0.9754147 -0.9674579\n",
       "3 2  STANDING 0.2754848 -0.02605042 -0.11815167 -0.9938190 -0.9699255\n",
       "4 2  STANDING 0.2702982 -0.03261387 -0.11752018 -0.9947428 -0.9732676\n",
       "5 2  STANDING 0.2748330 -0.02784779 -0.12952716 -0.9938525 -0.9674455\n",
       "6 2  STANDING 0.2792199 -0.01862040 -0.11390197 -0.9944552 -0.9704169\n",
       "  V6         V41       V42        ... V513        V516       V517      \n",
       "1 -0.6676833 0.9364893 -0.2827192 ... -0.48345254 -0.8950612 -0.8963596\n",
       "2 -0.9449582 0.9274036 -0.2892151 ...  0.20346524 -0.9454372 -0.9341520\n",
       "3 -0.9627480 0.9299150 -0.2875128 ...  0.34245571 -0.9710690 -0.9703078\n",
       "4 -0.9670907 0.9288814 -0.2933958 ...  0.33120550 -0.9716545 -0.9784844\n",
       "5 -0.9782950 0.9265997 -0.3029609 ...  0.07111154 -0.9874888 -0.9897160\n",
       "6 -0.9653163 0.9256632 -0.3089397 ... -0.04345482 -0.9912947 -0.9917440\n",
       "  V526        V529       V530       V539        V542       V543      \n",
       "1 -0.03535579 -0.7706100 -0.7971128 -0.04739130 -0.8901655 -0.9073076\n",
       "2 -0.49121253 -0.9244608 -0.9167741 -0.03147392 -0.9519774 -0.9382124\n",
       "3  0.14072902 -0.9752095 -0.9739984 -0.16880542 -0.9856888 -0.9832727\n",
       "4  0.14864853 -0.9762973 -0.9712482 -0.28563574 -0.9855619 -0.9858429\n",
       "5  0.42224872 -0.9770070 -0.9696193 -0.34906064 -0.9904980 -0.9905719\n",
       "6  0.40441535 -0.9770345 -0.9750513 -0.17703141 -0.9887326 -0.9898050\n",
       "  V552       \n",
       "1  0.07164545\n",
       "2 -0.40118872\n",
       "3  0.06289131\n",
       "4  0.11669529\n",
       "5 -0.12171128\n",
       "6  0.08360294"
      ]
     },
     "metadata": {},
     "output_type": "display_data"
    }
   ],
   "source": [
    "head(data)"
   ]
  },
  {
   "cell_type": "markdown",
   "metadata": {},
   "source": [
    "### Appropriately label the data set with descriptive variable names"
   ]
  },
  {
   "cell_type": "code",
   "execution_count": 16,
   "metadata": {},
   "outputs": [],
   "source": [
    "features <- features[mean_std_raw]"
   ]
  },
  {
   "cell_type": "code",
   "execution_count": 17,
   "metadata": {},
   "outputs": [
    {
     "data": {
      "text/html": [
       "<table>\n",
       "<thead><tr><th scope=col>V1</th><th scope=col>V2</th></tr></thead>\n",
       "<tbody>\n",
       "\t<tr><td>1                </td><td>tBodyAcc-mean()-X</td></tr>\n",
       "\t<tr><td>2                </td><td>tBodyAcc-mean()-Y</td></tr>\n",
       "\t<tr><td>3                </td><td>tBodyAcc-mean()-Z</td></tr>\n",
       "\t<tr><td>4                </td><td>tBodyAcc-std()-X </td></tr>\n",
       "\t<tr><td>5                </td><td>tBodyAcc-std()-Y </td></tr>\n",
       "\t<tr><td>6                </td><td>tBodyAcc-std()-Z </td></tr>\n",
       "</tbody>\n",
       "</table>\n"
      ],
      "text/latex": [
       "\\begin{tabular}{r|ll}\n",
       " V1 & V2\\\\\n",
       "\\hline\n",
       "\t 1                 & tBodyAcc-mean()-X\\\\\n",
       "\t 2                 & tBodyAcc-mean()-Y\\\\\n",
       "\t 3                 & tBodyAcc-mean()-Z\\\\\n",
       "\t 4                 & tBodyAcc-std()-X \\\\\n",
       "\t 5                 & tBodyAcc-std()-Y \\\\\n",
       "\t 6                 & tBodyAcc-std()-Z \\\\\n",
       "\\end{tabular}\n"
      ],
      "text/markdown": [
       "\n",
       "| V1 | V2 |\n",
       "|---|---|\n",
       "| 1                 | tBodyAcc-mean()-X |\n",
       "| 2                 | tBodyAcc-mean()-Y |\n",
       "| 3                 | tBodyAcc-mean()-Z |\n",
       "| 4                 | tBodyAcc-std()-X  |\n",
       "| 5                 | tBodyAcc-std()-Y  |\n",
       "| 6                 | tBodyAcc-std()-Z  |\n",
       "\n"
      ],
      "text/plain": [
       "  V1 V2               \n",
       "1 1  tBodyAcc-mean()-X\n",
       "2 2  tBodyAcc-mean()-Y\n",
       "3 3  tBodyAcc-mean()-Z\n",
       "4 4  tBodyAcc-std()-X \n",
       "5 5  tBodyAcc-std()-Y \n",
       "6 6  tBodyAcc-std()-Z "
      ]
     },
     "metadata": {},
     "output_type": "display_data"
    }
   ],
   "source": [
    "head(features)"
   ]
  },
  {
   "cell_type": "code",
   "execution_count": 18,
   "metadata": {},
   "outputs": [],
   "source": [
    "features <- gsub(\"-\", \".\", features$V2)"
   ]
  },
  {
   "cell_type": "code",
   "execution_count": 19,
   "metadata": {},
   "outputs": [
    {
     "data": {
      "text/html": [
       "<ol class=list-inline>\n",
       "\t<li>'tBodyAcc.mean().X'</li>\n",
       "\t<li>'tBodyAcc.mean().Y'</li>\n",
       "\t<li>'tBodyAcc.mean().Z'</li>\n",
       "\t<li>'tBodyAcc.std().X'</li>\n",
       "\t<li>'tBodyAcc.std().Y'</li>\n",
       "\t<li>'tBodyAcc.std().Z'</li>\n",
       "</ol>\n"
      ],
      "text/latex": [
       "\\begin{enumerate*}\n",
       "\\item 'tBodyAcc.mean().X'\n",
       "\\item 'tBodyAcc.mean().Y'\n",
       "\\item 'tBodyAcc.mean().Z'\n",
       "\\item 'tBodyAcc.std().X'\n",
       "\\item 'tBodyAcc.std().Y'\n",
       "\\item 'tBodyAcc.std().Z'\n",
       "\\end{enumerate*}\n"
      ],
      "text/markdown": [
       "1. 'tBodyAcc.mean().X'\n",
       "2. 'tBodyAcc.mean().Y'\n",
       "3. 'tBodyAcc.mean().Z'\n",
       "4. 'tBodyAcc.std().X'\n",
       "5. 'tBodyAcc.std().Y'\n",
       "6. 'tBodyAcc.std().Z'\n",
       "\n",
       "\n"
      ],
      "text/plain": [
       "[1] \"tBodyAcc.mean().X\" \"tBodyAcc.mean().Y\" \"tBodyAcc.mean().Z\"\n",
       "[4] \"tBodyAcc.std().X\"  \"tBodyAcc.std().Y\"  \"tBodyAcc.std().Z\" "
      ]
     },
     "metadata": {},
     "output_type": "display_data"
    }
   ],
   "source": [
    "head(features)"
   ]
  },
  {
   "cell_type": "code",
   "execution_count": 20,
   "metadata": {},
   "outputs": [],
   "source": [
    "features <- sub(\"t\", \"time\", features)"
   ]
  },
  {
   "cell_type": "code",
   "execution_count": 21,
   "metadata": {},
   "outputs": [
    {
     "data": {
      "text/html": [
       "<ol class=list-inline>\n",
       "\t<li>'timeBodyAcc.mean().X'</li>\n",
       "\t<li>'timeBodyAcc.mean().Y'</li>\n",
       "\t<li>'timeBodyAcc.mean().Z'</li>\n",
       "\t<li>'timeBodyAcc.std().X'</li>\n",
       "\t<li>'timeBodyAcc.std().Y'</li>\n",
       "\t<li>'timeBodyAcc.std().Z'</li>\n",
       "</ol>\n"
      ],
      "text/latex": [
       "\\begin{enumerate*}\n",
       "\\item 'timeBodyAcc.mean().X'\n",
       "\\item 'timeBodyAcc.mean().Y'\n",
       "\\item 'timeBodyAcc.mean().Z'\n",
       "\\item 'timeBodyAcc.std().X'\n",
       "\\item 'timeBodyAcc.std().Y'\n",
       "\\item 'timeBodyAcc.std().Z'\n",
       "\\end{enumerate*}\n"
      ],
      "text/markdown": [
       "1. 'timeBodyAcc.mean().X'\n",
       "2. 'timeBodyAcc.mean().Y'\n",
       "3. 'timeBodyAcc.mean().Z'\n",
       "4. 'timeBodyAcc.std().X'\n",
       "5. 'timeBodyAcc.std().Y'\n",
       "6. 'timeBodyAcc.std().Z'\n",
       "\n",
       "\n"
      ],
      "text/plain": [
       "[1] \"timeBodyAcc.mean().X\" \"timeBodyAcc.mean().Y\" \"timeBodyAcc.mean().Z\"\n",
       "[4] \"timeBodyAcc.std().X\"  \"timeBodyAcc.std().Y\"  \"timeBodyAcc.std().Z\" "
      ]
     },
     "metadata": {},
     "output_type": "display_data"
    }
   ],
   "source": [
    "head(features)"
   ]
  },
  {
   "cell_type": "code",
   "execution_count": 22,
   "metadata": {},
   "outputs": [],
   "source": [
    "features <- sub(\"f\", \"freq\", features)"
   ]
  },
  {
   "cell_type": "code",
   "execution_count": 23,
   "metadata": {},
   "outputs": [],
   "source": [
    "features <- c(\"subject\", \"activityLabel\", features)"
   ]
  },
  {
   "cell_type": "code",
   "execution_count": 24,
   "metadata": {},
   "outputs": [
    {
     "data": {
      "text/html": [
       "<ol class=list-inline>\n",
       "\t<li>'subject'</li>\n",
       "\t<li>'activityLabel'</li>\n",
       "\t<li>'timeBodyAcc.mean().X'</li>\n",
       "\t<li>'timeBodyAcc.mean().Y'</li>\n",
       "\t<li>'timeBodyAcc.mean().Z'</li>\n",
       "\t<li>'timeBodyAcc.std().X'</li>\n",
       "</ol>\n"
      ],
      "text/latex": [
       "\\begin{enumerate*}\n",
       "\\item 'subject'\n",
       "\\item 'activityLabel'\n",
       "\\item 'timeBodyAcc.mean().X'\n",
       "\\item 'timeBodyAcc.mean().Y'\n",
       "\\item 'timeBodyAcc.mean().Z'\n",
       "\\item 'timeBodyAcc.std().X'\n",
       "\\end{enumerate*}\n"
      ],
      "text/markdown": [
       "1. 'subject'\n",
       "2. 'activityLabel'\n",
       "3. 'timeBodyAcc.mean().X'\n",
       "4. 'timeBodyAcc.mean().Y'\n",
       "5. 'timeBodyAcc.mean().Z'\n",
       "6. 'timeBodyAcc.std().X'\n",
       "\n",
       "\n"
      ],
      "text/plain": [
       "[1] \"subject\"              \"activityLabel\"        \"timeBodyAcc.mean().X\"\n",
       "[4] \"timeBodyAcc.mean().Y\" \"timeBodyAcc.mean().Z\" \"timeBodyAcc.std().X\" "
      ]
     },
     "metadata": {},
     "output_type": "display_data"
    }
   ],
   "source": [
    "head(features)"
   ]
  },
  {
   "cell_type": "code",
   "execution_count": 25,
   "metadata": {},
   "outputs": [],
   "source": [
    "colnames(data) = features"
   ]
  },
  {
   "cell_type": "code",
   "execution_count": 26,
   "metadata": {},
   "outputs": [
    {
     "data": {
      "text/html": [
       "<table>\n",
       "<thead><tr><th scope=col>subject</th><th scope=col>activityLabel</th><th scope=col>timeBodyAcc.mean().X</th><th scope=col>timeBodyAcc.mean().Y</th><th scope=col>timeBodyAcc.mean().Z</th><th scope=col>timeBodyAcc.std().X</th><th scope=col>timeBodyAcc.std().Y</th><th scope=col>timeBodyAcc.std().Z</th><th scope=col>timeGravityAcc.mean().X</th><th scope=col>timeGravityAcc.mean().Y</th><th scope=col>...</th><th scope=col>freqBodyAccMag.meanFreq()</th><th scope=col>freqBodyBodyAccJerkMag.mean()</th><th scope=col>freqBodyBodyAccJerkMag.stimed()</th><th scope=col>freqBodyBodyAccJerkMag.meanFreq()</th><th scope=col>freqBodyBodyGyroMag.mean()</th><th scope=col>freqBodyBodyGyroMag.stimed()</th><th scope=col>freqBodyBodyGyroMag.meanFreq()</th><th scope=col>freqBodyBodyGyroJerkMag.mean()</th><th scope=col>freqBodyBodyGyroJerkMag.stimed()</th><th scope=col>freqBodyBodyGyroJerkMag.meanFreq()</th></tr></thead>\n",
       "<tbody>\n",
       "\t<tr><td>2          </td><td>STANDING   </td><td>0.2571778  </td><td>-0.02328523</td><td>-0.01465376</td><td>-0.9384040 </td><td>-0.9200908 </td><td>-0.6676833 </td><td>0.9364893  </td><td>-0.2827192 </td><td>...        </td><td>-0.48345254</td><td>-0.8950612 </td><td>-0.8963596 </td><td>-0.03535579</td><td>-0.7706100 </td><td>-0.7971128 </td><td>-0.04739130</td><td>-0.8901655 </td><td>-0.9073076 </td><td> 0.07164545</td></tr>\n",
       "\t<tr><td>2          </td><td>STANDING   </td><td>0.2860267  </td><td>-0.01316336</td><td>-0.11908252</td><td>-0.9754147 </td><td>-0.9674579 </td><td>-0.9449582 </td><td>0.9274036  </td><td>-0.2892151 </td><td>...        </td><td> 0.20346524</td><td>-0.9454372 </td><td>-0.9341520 </td><td>-0.49121253</td><td>-0.9244608 </td><td>-0.9167741 </td><td>-0.03147392</td><td>-0.9519774 </td><td>-0.9382124 </td><td>-0.40118872</td></tr>\n",
       "\t<tr><td>2          </td><td>STANDING   </td><td>0.2754848  </td><td>-0.02605042</td><td>-0.11815167</td><td>-0.9938190 </td><td>-0.9699255 </td><td>-0.9627480 </td><td>0.9299150  </td><td>-0.2875128 </td><td>...        </td><td> 0.34245571</td><td>-0.9710690 </td><td>-0.9703078 </td><td> 0.14072902</td><td>-0.9752095 </td><td>-0.9739984 </td><td>-0.16880542</td><td>-0.9856888 </td><td>-0.9832727 </td><td> 0.06289131</td></tr>\n",
       "\t<tr><td>2          </td><td>STANDING   </td><td>0.2702982  </td><td>-0.03261387</td><td>-0.11752018</td><td>-0.9947428 </td><td>-0.9732676 </td><td>-0.9670907 </td><td>0.9288814  </td><td>-0.2933958 </td><td>...        </td><td> 0.33120550</td><td>-0.9716545 </td><td>-0.9784844 </td><td> 0.14864853</td><td>-0.9762973 </td><td>-0.9712482 </td><td>-0.28563574</td><td>-0.9855619 </td><td>-0.9858429 </td><td> 0.11669529</td></tr>\n",
       "\t<tr><td>2          </td><td>STANDING   </td><td>0.2748330  </td><td>-0.02784779</td><td>-0.12952716</td><td>-0.9938525 </td><td>-0.9674455 </td><td>-0.9782950 </td><td>0.9265997  </td><td>-0.3029609 </td><td>...        </td><td> 0.07111154</td><td>-0.9874888 </td><td>-0.9897160 </td><td> 0.42224872</td><td>-0.9770070 </td><td>-0.9696193 </td><td>-0.34906064</td><td>-0.9904980 </td><td>-0.9905719 </td><td>-0.12171128</td></tr>\n",
       "\t<tr><td>2          </td><td>STANDING   </td><td>0.2792199  </td><td>-0.01862040</td><td>-0.11390197</td><td>-0.9944552 </td><td>-0.9704169 </td><td>-0.9653163 </td><td>0.9256632  </td><td>-0.3089397 </td><td>...        </td><td>-0.04345482</td><td>-0.9912947 </td><td>-0.9917440 </td><td> 0.40441535</td><td>-0.9770345 </td><td>-0.9750513 </td><td>-0.17703141</td><td>-0.9887326 </td><td>-0.9898050 </td><td> 0.08360294</td></tr>\n",
       "</tbody>\n",
       "</table>\n"
      ],
      "text/latex": [
       "\\begin{tabular}{r|lllllllllllllllllllllllllllllllllllllllllllllllllllllllllllllllllllllllllllllllll}\n",
       " subject & activityLabel & timeBodyAcc.mean().X & timeBodyAcc.mean().Y & timeBodyAcc.mean().Z & timeBodyAcc.std().X & timeBodyAcc.std().Y & timeBodyAcc.std().Z & timeGravityAcc.mean().X & timeGravityAcc.mean().Y & ... & freqBodyAccMag.meanFreq() & freqBodyBodyAccJerkMag.mean() & freqBodyBodyAccJerkMag.stimed() & freqBodyBodyAccJerkMag.meanFreq() & freqBodyBodyGyroMag.mean() & freqBodyBodyGyroMag.stimed() & freqBodyBodyGyroMag.meanFreq() & freqBodyBodyGyroJerkMag.mean() & freqBodyBodyGyroJerkMag.stimed() & freqBodyBodyGyroJerkMag.meanFreq()\\\\\n",
       "\\hline\n",
       "\t 2           & STANDING    & 0.2571778   & -0.02328523 & -0.01465376 & -0.9384040  & -0.9200908  & -0.6676833  & 0.9364893   & -0.2827192  & ...         & -0.48345254 & -0.8950612  & -0.8963596  & -0.03535579 & -0.7706100  & -0.7971128  & -0.04739130 & -0.8901655  & -0.9073076  &  0.07164545\\\\\n",
       "\t 2           & STANDING    & 0.2860267   & -0.01316336 & -0.11908252 & -0.9754147  & -0.9674579  & -0.9449582  & 0.9274036   & -0.2892151  & ...         &  0.20346524 & -0.9454372  & -0.9341520  & -0.49121253 & -0.9244608  & -0.9167741  & -0.03147392 & -0.9519774  & -0.9382124  & -0.40118872\\\\\n",
       "\t 2           & STANDING    & 0.2754848   & -0.02605042 & -0.11815167 & -0.9938190  & -0.9699255  & -0.9627480  & 0.9299150   & -0.2875128  & ...         &  0.34245571 & -0.9710690  & -0.9703078  &  0.14072902 & -0.9752095  & -0.9739984  & -0.16880542 & -0.9856888  & -0.9832727  &  0.06289131\\\\\n",
       "\t 2           & STANDING    & 0.2702982   & -0.03261387 & -0.11752018 & -0.9947428  & -0.9732676  & -0.9670907  & 0.9288814   & -0.2933958  & ...         &  0.33120550 & -0.9716545  & -0.9784844  &  0.14864853 & -0.9762973  & -0.9712482  & -0.28563574 & -0.9855619  & -0.9858429  &  0.11669529\\\\\n",
       "\t 2           & STANDING    & 0.2748330   & -0.02784779 & -0.12952716 & -0.9938525  & -0.9674455  & -0.9782950  & 0.9265997   & -0.3029609  & ...         &  0.07111154 & -0.9874888  & -0.9897160  &  0.42224872 & -0.9770070  & -0.9696193  & -0.34906064 & -0.9904980  & -0.9905719  & -0.12171128\\\\\n",
       "\t 2           & STANDING    & 0.2792199   & -0.01862040 & -0.11390197 & -0.9944552  & -0.9704169  & -0.9653163  & 0.9256632   & -0.3089397  & ...         & -0.04345482 & -0.9912947  & -0.9917440  &  0.40441535 & -0.9770345  & -0.9750513  & -0.17703141 & -0.9887326  & -0.9898050  &  0.08360294\\\\\n",
       "\\end{tabular}\n"
      ],
      "text/markdown": [
       "\n",
       "| subject | activityLabel | timeBodyAcc.mean().X | timeBodyAcc.mean().Y | timeBodyAcc.mean().Z | timeBodyAcc.std().X | timeBodyAcc.std().Y | timeBodyAcc.std().Z | timeGravityAcc.mean().X | timeGravityAcc.mean().Y | ... | freqBodyAccMag.meanFreq() | freqBodyBodyAccJerkMag.mean() | freqBodyBodyAccJerkMag.stimed() | freqBodyBodyAccJerkMag.meanFreq() | freqBodyBodyGyroMag.mean() | freqBodyBodyGyroMag.stimed() | freqBodyBodyGyroMag.meanFreq() | freqBodyBodyGyroJerkMag.mean() | freqBodyBodyGyroJerkMag.stimed() | freqBodyBodyGyroJerkMag.meanFreq() |\n",
       "|---|---|---|---|---|---|---|---|---|---|---|---|---|---|---|---|---|---|---|---|---|\n",
       "| 2           | STANDING    | 0.2571778   | -0.02328523 | -0.01465376 | -0.9384040  | -0.9200908  | -0.6676833  | 0.9364893   | -0.2827192  | ...         | -0.48345254 | -0.8950612  | -0.8963596  | -0.03535579 | -0.7706100  | -0.7971128  | -0.04739130 | -0.8901655  | -0.9073076  |  0.07164545 |\n",
       "| 2           | STANDING    | 0.2860267   | -0.01316336 | -0.11908252 | -0.9754147  | -0.9674579  | -0.9449582  | 0.9274036   | -0.2892151  | ...         |  0.20346524 | -0.9454372  | -0.9341520  | -0.49121253 | -0.9244608  | -0.9167741  | -0.03147392 | -0.9519774  | -0.9382124  | -0.40118872 |\n",
       "| 2           | STANDING    | 0.2754848   | -0.02605042 | -0.11815167 | -0.9938190  | -0.9699255  | -0.9627480  | 0.9299150   | -0.2875128  | ...         |  0.34245571 | -0.9710690  | -0.9703078  |  0.14072902 | -0.9752095  | -0.9739984  | -0.16880542 | -0.9856888  | -0.9832727  |  0.06289131 |\n",
       "| 2           | STANDING    | 0.2702982   | -0.03261387 | -0.11752018 | -0.9947428  | -0.9732676  | -0.9670907  | 0.9288814   | -0.2933958  | ...         |  0.33120550 | -0.9716545  | -0.9784844  |  0.14864853 | -0.9762973  | -0.9712482  | -0.28563574 | -0.9855619  | -0.9858429  |  0.11669529 |\n",
       "| 2           | STANDING    | 0.2748330   | -0.02784779 | -0.12952716 | -0.9938525  | -0.9674455  | -0.9782950  | 0.9265997   | -0.3029609  | ...         |  0.07111154 | -0.9874888  | -0.9897160  |  0.42224872 | -0.9770070  | -0.9696193  | -0.34906064 | -0.9904980  | -0.9905719  | -0.12171128 |\n",
       "| 2           | STANDING    | 0.2792199   | -0.01862040 | -0.11390197 | -0.9944552  | -0.9704169  | -0.9653163  | 0.9256632   | -0.3089397  | ...         | -0.04345482 | -0.9912947  | -0.9917440  |  0.40441535 | -0.9770345  | -0.9750513  | -0.17703141 | -0.9887326  | -0.9898050  |  0.08360294 |\n",
       "\n"
      ],
      "text/plain": [
       "  subject activityLabel timeBodyAcc.mean().X timeBodyAcc.mean().Y\n",
       "1 2       STANDING      0.2571778            -0.02328523         \n",
       "2 2       STANDING      0.2860267            -0.01316336         \n",
       "3 2       STANDING      0.2754848            -0.02605042         \n",
       "4 2       STANDING      0.2702982            -0.03261387         \n",
       "5 2       STANDING      0.2748330            -0.02784779         \n",
       "6 2       STANDING      0.2792199            -0.01862040         \n",
       "  timeBodyAcc.mean().Z timeBodyAcc.std().X timeBodyAcc.std().Y\n",
       "1 -0.01465376          -0.9384040          -0.9200908         \n",
       "2 -0.11908252          -0.9754147          -0.9674579         \n",
       "3 -0.11815167          -0.9938190          -0.9699255         \n",
       "4 -0.11752018          -0.9947428          -0.9732676         \n",
       "5 -0.12952716          -0.9938525          -0.9674455         \n",
       "6 -0.11390197          -0.9944552          -0.9704169         \n",
       "  timeBodyAcc.std().Z timeGravityAcc.mean().X timeGravityAcc.mean().Y ...\n",
       "1 -0.6676833          0.9364893               -0.2827192              ...\n",
       "2 -0.9449582          0.9274036               -0.2892151              ...\n",
       "3 -0.9627480          0.9299150               -0.2875128              ...\n",
       "4 -0.9670907          0.9288814               -0.2933958              ...\n",
       "5 -0.9782950          0.9265997               -0.3029609              ...\n",
       "6 -0.9653163          0.9256632               -0.3089397              ...\n",
       "  freqBodyAccMag.meanFreq() freqBodyBodyAccJerkMag.mean()\n",
       "1 -0.48345254               -0.8950612                   \n",
       "2  0.20346524               -0.9454372                   \n",
       "3  0.34245571               -0.9710690                   \n",
       "4  0.33120550               -0.9716545                   \n",
       "5  0.07111154               -0.9874888                   \n",
       "6 -0.04345482               -0.9912947                   \n",
       "  freqBodyBodyAccJerkMag.stimed() freqBodyBodyAccJerkMag.meanFreq()\n",
       "1 -0.8963596                      -0.03535579                      \n",
       "2 -0.9341520                      -0.49121253                      \n",
       "3 -0.9703078                       0.14072902                      \n",
       "4 -0.9784844                       0.14864853                      \n",
       "5 -0.9897160                       0.42224872                      \n",
       "6 -0.9917440                       0.40441535                      \n",
       "  freqBodyBodyGyroMag.mean() freqBodyBodyGyroMag.stimed()\n",
       "1 -0.7706100                 -0.7971128                  \n",
       "2 -0.9244608                 -0.9167741                  \n",
       "3 -0.9752095                 -0.9739984                  \n",
       "4 -0.9762973                 -0.9712482                  \n",
       "5 -0.9770070                 -0.9696193                  \n",
       "6 -0.9770345                 -0.9750513                  \n",
       "  freqBodyBodyGyroMag.meanFreq() freqBodyBodyGyroJerkMag.mean()\n",
       "1 -0.04739130                    -0.8901655                    \n",
       "2 -0.03147392                    -0.9519774                    \n",
       "3 -0.16880542                    -0.9856888                    \n",
       "4 -0.28563574                    -0.9855619                    \n",
       "5 -0.34906064                    -0.9904980                    \n",
       "6 -0.17703141                    -0.9887326                    \n",
       "  freqBodyBodyGyroJerkMag.stimed() freqBodyBodyGyroJerkMag.meanFreq()\n",
       "1 -0.9073076                        0.07164545                       \n",
       "2 -0.9382124                       -0.40118872                       \n",
       "3 -0.9832727                        0.06289131                       \n",
       "4 -0.9858429                        0.11669529                       \n",
       "5 -0.9905719                       -0.12171128                       \n",
       "6 -0.9898050                        0.08360294                       "
      ]
     },
     "metadata": {},
     "output_type": "display_data"
    }
   ],
   "source": [
    "head(data)"
   ]
  },
  {
   "cell_type": "markdown",
   "metadata": {},
   "source": [
    "### From the data set in step 4, create a second, independent tidy data set with the average of each variable for each activity and each subject."
   ]
  },
  {
   "cell_type": "code",
   "execution_count": 27,
   "metadata": {},
   "outputs": [
    {
     "name": "stderr",
     "output_type": "stream",
     "text": [
      "\n",
      "Attaching package: 'dplyr'\n",
      "\n",
      "The following objects are masked from 'package:stats':\n",
      "\n",
      "    filter, lag\n",
      "\n",
      "The following objects are masked from 'package:base':\n",
      "\n",
      "    intersect, setdiff, setequal, union\n",
      "\n"
     ]
    }
   ],
   "source": [
    "library(dplyr)"
   ]
  },
  {
   "cell_type": "code",
   "execution_count": 28,
   "metadata": {},
   "outputs": [],
   "source": [
    "tidy_data <- group_by(data, subject, activityLabel)"
   ]
  },
  {
   "cell_type": "code",
   "execution_count": 29,
   "metadata": {},
   "outputs": [
    {
     "data": {
      "text/html": [
       "<table>\n",
       "<thead><tr><th scope=col>subject</th><th scope=col>activityLabel</th><th scope=col>timeBodyAcc.mean().X</th><th scope=col>timeBodyAcc.mean().Y</th><th scope=col>timeBodyAcc.mean().Z</th><th scope=col>timeBodyAcc.std().X</th><th scope=col>timeBodyAcc.std().Y</th><th scope=col>timeBodyAcc.std().Z</th><th scope=col>timeGravityAcc.mean().X</th><th scope=col>timeGravityAcc.mean().Y</th><th scope=col>...</th><th scope=col>freqBodyAccMag.meanFreq()</th><th scope=col>freqBodyBodyAccJerkMag.mean()</th><th scope=col>freqBodyBodyAccJerkMag.stimed()</th><th scope=col>freqBodyBodyAccJerkMag.meanFreq()</th><th scope=col>freqBodyBodyGyroMag.mean()</th><th scope=col>freqBodyBodyGyroMag.stimed()</th><th scope=col>freqBodyBodyGyroMag.meanFreq()</th><th scope=col>freqBodyBodyGyroJerkMag.mean()</th><th scope=col>freqBodyBodyGyroJerkMag.stimed()</th><th scope=col>freqBodyBodyGyroJerkMag.meanFreq()</th></tr></thead>\n",
       "<tbody>\n",
       "\t<tr><td>2          </td><td>STANDING   </td><td>0.2571778  </td><td>-0.02328523</td><td>-0.01465376</td><td>-0.9384040 </td><td>-0.9200908 </td><td>-0.6676833 </td><td>0.9364893  </td><td>-0.2827192 </td><td>...        </td><td>-0.48345254</td><td>-0.8950612 </td><td>-0.8963596 </td><td>-0.03535579</td><td>-0.7706100 </td><td>-0.7971128 </td><td>-0.04739130</td><td>-0.8901655 </td><td>-0.9073076 </td><td> 0.07164545</td></tr>\n",
       "\t<tr><td>2          </td><td>STANDING   </td><td>0.2860267  </td><td>-0.01316336</td><td>-0.11908252</td><td>-0.9754147 </td><td>-0.9674579 </td><td>-0.9449582 </td><td>0.9274036  </td><td>-0.2892151 </td><td>...        </td><td> 0.20346524</td><td>-0.9454372 </td><td>-0.9341520 </td><td>-0.49121253</td><td>-0.9244608 </td><td>-0.9167741 </td><td>-0.03147392</td><td>-0.9519774 </td><td>-0.9382124 </td><td>-0.40118872</td></tr>\n",
       "\t<tr><td>2          </td><td>STANDING   </td><td>0.2754848  </td><td>-0.02605042</td><td>-0.11815167</td><td>-0.9938190 </td><td>-0.9699255 </td><td>-0.9627480 </td><td>0.9299150  </td><td>-0.2875128 </td><td>...        </td><td> 0.34245571</td><td>-0.9710690 </td><td>-0.9703078 </td><td> 0.14072902</td><td>-0.9752095 </td><td>-0.9739984 </td><td>-0.16880542</td><td>-0.9856888 </td><td>-0.9832727 </td><td> 0.06289131</td></tr>\n",
       "\t<tr><td>2          </td><td>STANDING   </td><td>0.2702982  </td><td>-0.03261387</td><td>-0.11752018</td><td>-0.9947428 </td><td>-0.9732676 </td><td>-0.9670907 </td><td>0.9288814  </td><td>-0.2933958 </td><td>...        </td><td> 0.33120550</td><td>-0.9716545 </td><td>-0.9784844 </td><td> 0.14864853</td><td>-0.9762973 </td><td>-0.9712482 </td><td>-0.28563574</td><td>-0.9855619 </td><td>-0.9858429 </td><td> 0.11669529</td></tr>\n",
       "\t<tr><td>2          </td><td>STANDING   </td><td>0.2748330  </td><td>-0.02784779</td><td>-0.12952716</td><td>-0.9938525 </td><td>-0.9674455 </td><td>-0.9782950 </td><td>0.9265997  </td><td>-0.3029609 </td><td>...        </td><td> 0.07111154</td><td>-0.9874888 </td><td>-0.9897160 </td><td> 0.42224872</td><td>-0.9770070 </td><td>-0.9696193 </td><td>-0.34906064</td><td>-0.9904980 </td><td>-0.9905719 </td><td>-0.12171128</td></tr>\n",
       "\t<tr><td>2          </td><td>STANDING   </td><td>0.2792199  </td><td>-0.01862040</td><td>-0.11390197</td><td>-0.9944552 </td><td>-0.9704169 </td><td>-0.9653163 </td><td>0.9256632  </td><td>-0.3089397 </td><td>...        </td><td>-0.04345482</td><td>-0.9912947 </td><td>-0.9917440 </td><td> 0.40441535</td><td>-0.9770345 </td><td>-0.9750513 </td><td>-0.17703141</td><td>-0.9887326 </td><td>-0.9898050 </td><td> 0.08360294</td></tr>\n",
       "</tbody>\n",
       "</table>\n"
      ],
      "text/latex": [
       "\\begin{tabular}{r|lllllllllllllllllllllllllllllllllllllllllllllllllllllllllllllllllllllllllllllllll}\n",
       " subject & activityLabel & timeBodyAcc.mean().X & timeBodyAcc.mean().Y & timeBodyAcc.mean().Z & timeBodyAcc.std().X & timeBodyAcc.std().Y & timeBodyAcc.std().Z & timeGravityAcc.mean().X & timeGravityAcc.mean().Y & ... & freqBodyAccMag.meanFreq() & freqBodyBodyAccJerkMag.mean() & freqBodyBodyAccJerkMag.stimed() & freqBodyBodyAccJerkMag.meanFreq() & freqBodyBodyGyroMag.mean() & freqBodyBodyGyroMag.stimed() & freqBodyBodyGyroMag.meanFreq() & freqBodyBodyGyroJerkMag.mean() & freqBodyBodyGyroJerkMag.stimed() & freqBodyBodyGyroJerkMag.meanFreq()\\\\\n",
       "\\hline\n",
       "\t 2           & STANDING    & 0.2571778   & -0.02328523 & -0.01465376 & -0.9384040  & -0.9200908  & -0.6676833  & 0.9364893   & -0.2827192  & ...         & -0.48345254 & -0.8950612  & -0.8963596  & -0.03535579 & -0.7706100  & -0.7971128  & -0.04739130 & -0.8901655  & -0.9073076  &  0.07164545\\\\\n",
       "\t 2           & STANDING    & 0.2860267   & -0.01316336 & -0.11908252 & -0.9754147  & -0.9674579  & -0.9449582  & 0.9274036   & -0.2892151  & ...         &  0.20346524 & -0.9454372  & -0.9341520  & -0.49121253 & -0.9244608  & -0.9167741  & -0.03147392 & -0.9519774  & -0.9382124  & -0.40118872\\\\\n",
       "\t 2           & STANDING    & 0.2754848   & -0.02605042 & -0.11815167 & -0.9938190  & -0.9699255  & -0.9627480  & 0.9299150   & -0.2875128  & ...         &  0.34245571 & -0.9710690  & -0.9703078  &  0.14072902 & -0.9752095  & -0.9739984  & -0.16880542 & -0.9856888  & -0.9832727  &  0.06289131\\\\\n",
       "\t 2           & STANDING    & 0.2702982   & -0.03261387 & -0.11752018 & -0.9947428  & -0.9732676  & -0.9670907  & 0.9288814   & -0.2933958  & ...         &  0.33120550 & -0.9716545  & -0.9784844  &  0.14864853 & -0.9762973  & -0.9712482  & -0.28563574 & -0.9855619  & -0.9858429  &  0.11669529\\\\\n",
       "\t 2           & STANDING    & 0.2748330   & -0.02784779 & -0.12952716 & -0.9938525  & -0.9674455  & -0.9782950  & 0.9265997   & -0.3029609  & ...         &  0.07111154 & -0.9874888  & -0.9897160  &  0.42224872 & -0.9770070  & -0.9696193  & -0.34906064 & -0.9904980  & -0.9905719  & -0.12171128\\\\\n",
       "\t 2           & STANDING    & 0.2792199   & -0.01862040 & -0.11390197 & -0.9944552  & -0.9704169  & -0.9653163  & 0.9256632   & -0.3089397  & ...         & -0.04345482 & -0.9912947  & -0.9917440  &  0.40441535 & -0.9770345  & -0.9750513  & -0.17703141 & -0.9887326  & -0.9898050  &  0.08360294\\\\\n",
       "\\end{tabular}\n"
      ],
      "text/markdown": [
       "\n",
       "| subject | activityLabel | timeBodyAcc.mean().X | timeBodyAcc.mean().Y | timeBodyAcc.mean().Z | timeBodyAcc.std().X | timeBodyAcc.std().Y | timeBodyAcc.std().Z | timeGravityAcc.mean().X | timeGravityAcc.mean().Y | ... | freqBodyAccMag.meanFreq() | freqBodyBodyAccJerkMag.mean() | freqBodyBodyAccJerkMag.stimed() | freqBodyBodyAccJerkMag.meanFreq() | freqBodyBodyGyroMag.mean() | freqBodyBodyGyroMag.stimed() | freqBodyBodyGyroMag.meanFreq() | freqBodyBodyGyroJerkMag.mean() | freqBodyBodyGyroJerkMag.stimed() | freqBodyBodyGyroJerkMag.meanFreq() |\n",
       "|---|---|---|---|---|---|---|---|---|---|---|---|---|---|---|---|---|---|---|---|---|\n",
       "| 2           | STANDING    | 0.2571778   | -0.02328523 | -0.01465376 | -0.9384040  | -0.9200908  | -0.6676833  | 0.9364893   | -0.2827192  | ...         | -0.48345254 | -0.8950612  | -0.8963596  | -0.03535579 | -0.7706100  | -0.7971128  | -0.04739130 | -0.8901655  | -0.9073076  |  0.07164545 |\n",
       "| 2           | STANDING    | 0.2860267   | -0.01316336 | -0.11908252 | -0.9754147  | -0.9674579  | -0.9449582  | 0.9274036   | -0.2892151  | ...         |  0.20346524 | -0.9454372  | -0.9341520  | -0.49121253 | -0.9244608  | -0.9167741  | -0.03147392 | -0.9519774  | -0.9382124  | -0.40118872 |\n",
       "| 2           | STANDING    | 0.2754848   | -0.02605042 | -0.11815167 | -0.9938190  | -0.9699255  | -0.9627480  | 0.9299150   | -0.2875128  | ...         |  0.34245571 | -0.9710690  | -0.9703078  |  0.14072902 | -0.9752095  | -0.9739984  | -0.16880542 | -0.9856888  | -0.9832727  |  0.06289131 |\n",
       "| 2           | STANDING    | 0.2702982   | -0.03261387 | -0.11752018 | -0.9947428  | -0.9732676  | -0.9670907  | 0.9288814   | -0.2933958  | ...         |  0.33120550 | -0.9716545  | -0.9784844  |  0.14864853 | -0.9762973  | -0.9712482  | -0.28563574 | -0.9855619  | -0.9858429  |  0.11669529 |\n",
       "| 2           | STANDING    | 0.2748330   | -0.02784779 | -0.12952716 | -0.9938525  | -0.9674455  | -0.9782950  | 0.9265997   | -0.3029609  | ...         |  0.07111154 | -0.9874888  | -0.9897160  |  0.42224872 | -0.9770070  | -0.9696193  | -0.34906064 | -0.9904980  | -0.9905719  | -0.12171128 |\n",
       "| 2           | STANDING    | 0.2792199   | -0.01862040 | -0.11390197 | -0.9944552  | -0.9704169  | -0.9653163  | 0.9256632   | -0.3089397  | ...         | -0.04345482 | -0.9912947  | -0.9917440  |  0.40441535 | -0.9770345  | -0.9750513  | -0.17703141 | -0.9887326  | -0.9898050  |  0.08360294 |\n",
       "\n"
      ],
      "text/plain": [
       "  subject activityLabel timeBodyAcc.mean().X timeBodyAcc.mean().Y\n",
       "1 2       STANDING      0.2571778            -0.02328523         \n",
       "2 2       STANDING      0.2860267            -0.01316336         \n",
       "3 2       STANDING      0.2754848            -0.02605042         \n",
       "4 2       STANDING      0.2702982            -0.03261387         \n",
       "5 2       STANDING      0.2748330            -0.02784779         \n",
       "6 2       STANDING      0.2792199            -0.01862040         \n",
       "  timeBodyAcc.mean().Z timeBodyAcc.std().X timeBodyAcc.std().Y\n",
       "1 -0.01465376          -0.9384040          -0.9200908         \n",
       "2 -0.11908252          -0.9754147          -0.9674579         \n",
       "3 -0.11815167          -0.9938190          -0.9699255         \n",
       "4 -0.11752018          -0.9947428          -0.9732676         \n",
       "5 -0.12952716          -0.9938525          -0.9674455         \n",
       "6 -0.11390197          -0.9944552          -0.9704169         \n",
       "  timeBodyAcc.std().Z timeGravityAcc.mean().X timeGravityAcc.mean().Y ...\n",
       "1 -0.6676833          0.9364893               -0.2827192              ...\n",
       "2 -0.9449582          0.9274036               -0.2892151              ...\n",
       "3 -0.9627480          0.9299150               -0.2875128              ...\n",
       "4 -0.9670907          0.9288814               -0.2933958              ...\n",
       "5 -0.9782950          0.9265997               -0.3029609              ...\n",
       "6 -0.9653163          0.9256632               -0.3089397              ...\n",
       "  freqBodyAccMag.meanFreq() freqBodyBodyAccJerkMag.mean()\n",
       "1 -0.48345254               -0.8950612                   \n",
       "2  0.20346524               -0.9454372                   \n",
       "3  0.34245571               -0.9710690                   \n",
       "4  0.33120550               -0.9716545                   \n",
       "5  0.07111154               -0.9874888                   \n",
       "6 -0.04345482               -0.9912947                   \n",
       "  freqBodyBodyAccJerkMag.stimed() freqBodyBodyAccJerkMag.meanFreq()\n",
       "1 -0.8963596                      -0.03535579                      \n",
       "2 -0.9341520                      -0.49121253                      \n",
       "3 -0.9703078                       0.14072902                      \n",
       "4 -0.9784844                       0.14864853                      \n",
       "5 -0.9897160                       0.42224872                      \n",
       "6 -0.9917440                       0.40441535                      \n",
       "  freqBodyBodyGyroMag.mean() freqBodyBodyGyroMag.stimed()\n",
       "1 -0.7706100                 -0.7971128                  \n",
       "2 -0.9244608                 -0.9167741                  \n",
       "3 -0.9752095                 -0.9739984                  \n",
       "4 -0.9762973                 -0.9712482                  \n",
       "5 -0.9770070                 -0.9696193                  \n",
       "6 -0.9770345                 -0.9750513                  \n",
       "  freqBodyBodyGyroMag.meanFreq() freqBodyBodyGyroJerkMag.mean()\n",
       "1 -0.04739130                    -0.8901655                    \n",
       "2 -0.03147392                    -0.9519774                    \n",
       "3 -0.16880542                    -0.9856888                    \n",
       "4 -0.28563574                    -0.9855619                    \n",
       "5 -0.34906064                    -0.9904980                    \n",
       "6 -0.17703141                    -0.9887326                    \n",
       "  freqBodyBodyGyroJerkMag.stimed() freqBodyBodyGyroJerkMag.meanFreq()\n",
       "1 -0.9073076                        0.07164545                       \n",
       "2 -0.9382124                       -0.40118872                       \n",
       "3 -0.9832727                        0.06289131                       \n",
       "4 -0.9858429                        0.11669529                       \n",
       "5 -0.9905719                       -0.12171128                       \n",
       "6 -0.9898050                        0.08360294                       "
      ]
     },
     "metadata": {},
     "output_type": "display_data"
    }
   ],
   "source": [
    "head(tidy_data)"
   ]
  },
  {
   "cell_type": "code",
   "execution_count": 30,
   "metadata": {},
   "outputs": [],
   "source": [
    "tidy_data <- summarise_each(tidy_data, funs = \"mean\")"
   ]
  },
  {
   "cell_type": "code",
   "execution_count": 31,
   "metadata": {},
   "outputs": [
    {
     "data": {
      "text/html": [
       "<table>\n",
       "<thead><tr><th scope=col>subject</th><th scope=col>activityLabel</th><th scope=col>timeBodyAcc.mean().X</th><th scope=col>timeBodyAcc.mean().Y</th><th scope=col>timeBodyAcc.mean().Z</th><th scope=col>timeBodyAcc.std().X</th><th scope=col>timeBodyAcc.std().Y</th><th scope=col>timeBodyAcc.std().Z</th><th scope=col>timeGravityAcc.mean().X</th><th scope=col>timeGravityAcc.mean().Y</th><th scope=col>...</th><th scope=col>freqBodyAccMag.meanFreq()</th><th scope=col>freqBodyBodyAccJerkMag.mean()</th><th scope=col>freqBodyBodyAccJerkMag.stimed()</th><th scope=col>freqBodyBodyAccJerkMag.meanFreq()</th><th scope=col>freqBodyBodyGyroMag.mean()</th><th scope=col>freqBodyBodyGyroMag.stimed()</th><th scope=col>freqBodyBodyGyroMag.meanFreq()</th><th scope=col>freqBodyBodyGyroJerkMag.mean()</th><th scope=col>freqBodyBodyGyroJerkMag.stimed()</th><th scope=col>freqBodyBodyGyroJerkMag.meanFreq()</th></tr></thead>\n",
       "<tbody>\n",
       "\t<tr><td>1                 </td><td>LAYING            </td><td>0.2215982         </td><td>-0.040513953      </td><td>-0.1132036        </td><td>-0.92805647       </td><td>-0.836827406      </td><td>-0.82606140       </td><td>-0.2488818        </td><td> 0.7055498        </td><td>...               </td><td> 0.08640856       </td><td>-0.93330036       </td><td>-0.9218040        </td><td>0.26639115        </td><td>-0.8621902        </td><td>-0.8243194        </td><td>-0.1397750127     </td><td>-0.9423669        </td><td>-0.9326607        </td><td>0.1764859         </td></tr>\n",
       "\t<tr><td>1                 </td><td>SITTING           </td><td>0.2612376         </td><td>-0.001308288      </td><td>-0.1045442        </td><td>-0.97722901       </td><td>-0.922618642      </td><td>-0.93958629       </td><td> 0.8315099        </td><td> 0.2044116        </td><td>...               </td><td> 0.23665501       </td><td>-0.98526213       </td><td>-0.9816062        </td><td>0.35185220        </td><td>-0.9584356        </td><td>-0.9321984        </td><td>-0.0002621867     </td><td>-0.9897975        </td><td>-0.9870496        </td><td>0.1847759         </td></tr>\n",
       "\t<tr><td>1                 </td><td>STANDING          </td><td>0.2789176         </td><td>-0.016137590      </td><td>-0.1106018        </td><td>-0.99575990       </td><td>-0.973190056      </td><td>-0.97977588       </td><td> 0.9429520        </td><td>-0.2729838        </td><td>...               </td><td> 0.28455529       </td><td>-0.99254248       </td><td>-0.9925360        </td><td>0.42222010        </td><td>-0.9846176        </td><td>-0.9784661        </td><td>-0.0286057725     </td><td>-0.9948154        </td><td>-0.9946711        </td><td>0.3344987         </td></tr>\n",
       "\t<tr><td>1                 </td><td>WALKING           </td><td>0.2773308         </td><td>-0.017383819      </td><td>-0.1111481        </td><td>-0.28374026       </td><td> 0.114461337      </td><td>-0.26002790       </td><td> 0.9352232        </td><td>-0.2821650        </td><td>...               </td><td> 0.19064372       </td><td>-0.05711940       </td><td>-0.1034924        </td><td>0.09382218        </td><td>-0.1992526        </td><td>-0.3210180        </td><td> 0.2688443675     </td><td>-0.3193086        </td><td>-0.3816019        </td><td>0.1906634         </td></tr>\n",
       "\t<tr><td>1                 </td><td>WALKING_DOWNSTAIRS</td><td>0.2891883         </td><td>-0.009918505      </td><td>-0.1075662        </td><td> 0.03003534       </td><td>-0.031935943      </td><td>-0.23043421       </td><td> 0.9318744        </td><td>-0.2666103        </td><td>...               </td><td> 0.11918714       </td><td> 0.02621849       </td><td>-0.1040523        </td><td>0.07649155        </td><td>-0.1857203        </td><td>-0.3983504        </td><td> 0.3496138955     </td><td>-0.2819634        </td><td>-0.3919199        </td><td>0.1900007         </td></tr>\n",
       "\t<tr><td>1                 </td><td>WALKING_UPSTAIRS  </td><td>0.2554617         </td><td>-0.023953149      </td><td>-0.0973020        </td><td>-0.35470803       </td><td>-0.002320265      </td><td>-0.01947924       </td><td> 0.8933511        </td><td>-0.3621534        </td><td>...               </td><td>-0.09774335       </td><td>-0.44265216       </td><td>-0.5330599        </td><td>0.08535241        </td><td>-0.3259615        </td><td>-0.1829855        </td><td>-0.2193033761     </td><td>-0.6346651        </td><td>-0.6939305        </td><td>0.1142773         </td></tr>\n",
       "</tbody>\n",
       "</table>\n"
      ],
      "text/latex": [
       "\\begin{tabular}{r|lllllllllllllllllllllllllllllllllllllllllllllllllllllllllllllllllllllllllllllllll}\n",
       " subject & activityLabel & timeBodyAcc.mean().X & timeBodyAcc.mean().Y & timeBodyAcc.mean().Z & timeBodyAcc.std().X & timeBodyAcc.std().Y & timeBodyAcc.std().Z & timeGravityAcc.mean().X & timeGravityAcc.mean().Y & ... & freqBodyAccMag.meanFreq() & freqBodyBodyAccJerkMag.mean() & freqBodyBodyAccJerkMag.stimed() & freqBodyBodyAccJerkMag.meanFreq() & freqBodyBodyGyroMag.mean() & freqBodyBodyGyroMag.stimed() & freqBodyBodyGyroMag.meanFreq() & freqBodyBodyGyroJerkMag.mean() & freqBodyBodyGyroJerkMag.stimed() & freqBodyBodyGyroJerkMag.meanFreq()\\\\\n",
       "\\hline\n",
       "\t 1                  & LAYING             & 0.2215982          & -0.040513953       & -0.1132036         & -0.92805647        & -0.836827406       & -0.82606140        & -0.2488818         &  0.7055498         & ...                &  0.08640856        & -0.93330036        & -0.9218040         & 0.26639115         & -0.8621902         & -0.8243194         & -0.1397750127      & -0.9423669         & -0.9326607         & 0.1764859         \\\\\n",
       "\t 1                  & SITTING            & 0.2612376          & -0.001308288       & -0.1045442         & -0.97722901        & -0.922618642       & -0.93958629        &  0.8315099         &  0.2044116         & ...                &  0.23665501        & -0.98526213        & -0.9816062         & 0.35185220         & -0.9584356         & -0.9321984         & -0.0002621867      & -0.9897975         & -0.9870496         & 0.1847759         \\\\\n",
       "\t 1                  & STANDING           & 0.2789176          & -0.016137590       & -0.1106018         & -0.99575990        & -0.973190056       & -0.97977588        &  0.9429520         & -0.2729838         & ...                &  0.28455529        & -0.99254248        & -0.9925360         & 0.42222010         & -0.9846176         & -0.9784661         & -0.0286057725      & -0.9948154         & -0.9946711         & 0.3344987         \\\\\n",
       "\t 1                  & WALKING            & 0.2773308          & -0.017383819       & -0.1111481         & -0.28374026        &  0.114461337       & -0.26002790        &  0.9352232         & -0.2821650         & ...                &  0.19064372        & -0.05711940        & -0.1034924         & 0.09382218         & -0.1992526         & -0.3210180         &  0.2688443675      & -0.3193086         & -0.3816019         & 0.1906634         \\\\\n",
       "\t 1                    & WALKING\\_DOWNSTAIRS & 0.2891883            & -0.009918505         & -0.1075662           &  0.03003534          & -0.031935943         & -0.23043421          &  0.9318744           & -0.2666103           & ...                  &  0.11918714          &  0.02621849          & -0.1040523           & 0.07649155           & -0.1857203           & -0.3983504           &  0.3496138955        & -0.2819634           & -0.3919199           & 0.1900007           \\\\\n",
       "\t 1                    & WALKING\\_UPSTAIRS   & 0.2554617            & -0.023953149         & -0.0973020           & -0.35470803          & -0.002320265         & -0.01947924          &  0.8933511           & -0.3621534           & ...                  & -0.09774335          & -0.44265216          & -0.5330599           & 0.08535241           & -0.3259615           & -0.1829855           & -0.2193033761        & -0.6346651           & -0.6939305           & 0.1142773           \\\\\n",
       "\\end{tabular}\n"
      ],
      "text/markdown": [
       "\n",
       "| subject | activityLabel | timeBodyAcc.mean().X | timeBodyAcc.mean().Y | timeBodyAcc.mean().Z | timeBodyAcc.std().X | timeBodyAcc.std().Y | timeBodyAcc.std().Z | timeGravityAcc.mean().X | timeGravityAcc.mean().Y | ... | freqBodyAccMag.meanFreq() | freqBodyBodyAccJerkMag.mean() | freqBodyBodyAccJerkMag.stimed() | freqBodyBodyAccJerkMag.meanFreq() | freqBodyBodyGyroMag.mean() | freqBodyBodyGyroMag.stimed() | freqBodyBodyGyroMag.meanFreq() | freqBodyBodyGyroJerkMag.mean() | freqBodyBodyGyroJerkMag.stimed() | freqBodyBodyGyroJerkMag.meanFreq() |\n",
       "|---|---|---|---|---|---|---|---|---|---|---|---|---|---|---|---|---|---|---|---|---|\n",
       "| 1                  | LAYING             | 0.2215982          | -0.040513953       | -0.1132036         | -0.92805647        | -0.836827406       | -0.82606140        | -0.2488818         |  0.7055498         | ...                |  0.08640856        | -0.93330036        | -0.9218040         | 0.26639115         | -0.8621902         | -0.8243194         | -0.1397750127      | -0.9423669         | -0.9326607         | 0.1764859          |\n",
       "| 1                  | SITTING            | 0.2612376          | -0.001308288       | -0.1045442         | -0.97722901        | -0.922618642       | -0.93958629        |  0.8315099         |  0.2044116         | ...                |  0.23665501        | -0.98526213        | -0.9816062         | 0.35185220         | -0.9584356         | -0.9321984         | -0.0002621867      | -0.9897975         | -0.9870496         | 0.1847759          |\n",
       "| 1                  | STANDING           | 0.2789176          | -0.016137590       | -0.1106018         | -0.99575990        | -0.973190056       | -0.97977588        |  0.9429520         | -0.2729838         | ...                |  0.28455529        | -0.99254248        | -0.9925360         | 0.42222010         | -0.9846176         | -0.9784661         | -0.0286057725      | -0.9948154         | -0.9946711         | 0.3344987          |\n",
       "| 1                  | WALKING            | 0.2773308          | -0.017383819       | -0.1111481         | -0.28374026        |  0.114461337       | -0.26002790        |  0.9352232         | -0.2821650         | ...                |  0.19064372        | -0.05711940        | -0.1034924         | 0.09382218         | -0.1992526         | -0.3210180         |  0.2688443675      | -0.3193086         | -0.3816019         | 0.1906634          |\n",
       "| 1                  | WALKING_DOWNSTAIRS | 0.2891883          | -0.009918505       | -0.1075662         |  0.03003534        | -0.031935943       | -0.23043421        |  0.9318744         | -0.2666103         | ...                |  0.11918714        |  0.02621849        | -0.1040523         | 0.07649155         | -0.1857203         | -0.3983504         |  0.3496138955      | -0.2819634         | -0.3919199         | 0.1900007          |\n",
       "| 1                  | WALKING_UPSTAIRS   | 0.2554617          | -0.023953149       | -0.0973020         | -0.35470803        | -0.002320265       | -0.01947924        |  0.8933511         | -0.3621534         | ...                | -0.09774335        | -0.44265216        | -0.5330599         | 0.08535241         | -0.3259615         | -0.1829855         | -0.2193033761      | -0.6346651         | -0.6939305         | 0.1142773          |\n",
       "\n"
      ],
      "text/plain": [
       "  subject activityLabel      timeBodyAcc.mean().X timeBodyAcc.mean().Y\n",
       "1 1       LAYING             0.2215982            -0.040513953        \n",
       "2 1       SITTING            0.2612376            -0.001308288        \n",
       "3 1       STANDING           0.2789176            -0.016137590        \n",
       "4 1       WALKING            0.2773308            -0.017383819        \n",
       "5 1       WALKING_DOWNSTAIRS 0.2891883            -0.009918505        \n",
       "6 1       WALKING_UPSTAIRS   0.2554617            -0.023953149        \n",
       "  timeBodyAcc.mean().Z timeBodyAcc.std().X timeBodyAcc.std().Y\n",
       "1 -0.1132036           -0.92805647         -0.836827406       \n",
       "2 -0.1045442           -0.97722901         -0.922618642       \n",
       "3 -0.1106018           -0.99575990         -0.973190056       \n",
       "4 -0.1111481           -0.28374026          0.114461337       \n",
       "5 -0.1075662            0.03003534         -0.031935943       \n",
       "6 -0.0973020           -0.35470803         -0.002320265       \n",
       "  timeBodyAcc.std().Z timeGravityAcc.mean().X timeGravityAcc.mean().Y ...\n",
       "1 -0.82606140         -0.2488818               0.7055498              ...\n",
       "2 -0.93958629          0.8315099               0.2044116              ...\n",
       "3 -0.97977588          0.9429520              -0.2729838              ...\n",
       "4 -0.26002790          0.9352232              -0.2821650              ...\n",
       "5 -0.23043421          0.9318744              -0.2666103              ...\n",
       "6 -0.01947924          0.8933511              -0.3621534              ...\n",
       "  freqBodyAccMag.meanFreq() freqBodyBodyAccJerkMag.mean()\n",
       "1  0.08640856               -0.93330036                  \n",
       "2  0.23665501               -0.98526213                  \n",
       "3  0.28455529               -0.99254248                  \n",
       "4  0.19064372               -0.05711940                  \n",
       "5  0.11918714                0.02621849                  \n",
       "6 -0.09774335               -0.44265216                  \n",
       "  freqBodyBodyAccJerkMag.stimed() freqBodyBodyAccJerkMag.meanFreq()\n",
       "1 -0.9218040                      0.26639115                       \n",
       "2 -0.9816062                      0.35185220                       \n",
       "3 -0.9925360                      0.42222010                       \n",
       "4 -0.1034924                      0.09382218                       \n",
       "5 -0.1040523                      0.07649155                       \n",
       "6 -0.5330599                      0.08535241                       \n",
       "  freqBodyBodyGyroMag.mean() freqBodyBodyGyroMag.stimed()\n",
       "1 -0.8621902                 -0.8243194                  \n",
       "2 -0.9584356                 -0.9321984                  \n",
       "3 -0.9846176                 -0.9784661                  \n",
       "4 -0.1992526                 -0.3210180                  \n",
       "5 -0.1857203                 -0.3983504                  \n",
       "6 -0.3259615                 -0.1829855                  \n",
       "  freqBodyBodyGyroMag.meanFreq() freqBodyBodyGyroJerkMag.mean()\n",
       "1 -0.1397750127                  -0.9423669                    \n",
       "2 -0.0002621867                  -0.9897975                    \n",
       "3 -0.0286057725                  -0.9948154                    \n",
       "4  0.2688443675                  -0.3193086                    \n",
       "5  0.3496138955                  -0.2819634                    \n",
       "6 -0.2193033761                  -0.6346651                    \n",
       "  freqBodyBodyGyroJerkMag.stimed() freqBodyBodyGyroJerkMag.meanFreq()\n",
       "1 -0.9326607                       0.1764859                         \n",
       "2 -0.9870496                       0.1847759                         \n",
       "3 -0.9946711                       0.3344987                         \n",
       "4 -0.3816019                       0.1906634                         \n",
       "5 -0.3919199                       0.1900007                         \n",
       "6 -0.6939305                       0.1142773                         "
      ]
     },
     "metadata": {},
     "output_type": "display_data"
    }
   ],
   "source": [
    "head(tidy_data)"
   ]
  },
  {
   "cell_type": "code",
   "execution_count": 32,
   "metadata": {},
   "outputs": [
    {
     "data": {
      "text/html": [
       "<ol class=list-inline>\n",
       "\t<li>'subject'</li>\n",
       "\t<li>'activityLabel'</li>\n",
       "\t<li>'timeBodyAcc.mean().X'</li>\n",
       "\t<li>'timeBodyAcc.mean().Y'</li>\n",
       "\t<li>'timeBodyAcc.mean().Z'</li>\n",
       "\t<li>'timeBodyAcc.std().X'</li>\n",
       "\t<li>'timeBodyAcc.std().Y'</li>\n",
       "\t<li>'timeBodyAcc.std().Z'</li>\n",
       "\t<li>'timeGravityAcc.mean().X'</li>\n",
       "\t<li>'timeGravityAcc.mean().Y'</li>\n",
       "\t<li>'timeGravityAcc.mean().Z'</li>\n",
       "\t<li>'timeGravityAcc.std().X'</li>\n",
       "\t<li>'timeGravityAcc.std().Y'</li>\n",
       "\t<li>'timeGravityAcc.std().Z'</li>\n",
       "\t<li>'timeBodyAccJerk.mean().X'</li>\n",
       "\t<li>'timeBodyAccJerk.mean().Y'</li>\n",
       "\t<li>'timeBodyAccJerk.mean().Z'</li>\n",
       "\t<li>'timeBodyAccJerk.std().X'</li>\n",
       "\t<li>'timeBodyAccJerk.std().Y'</li>\n",
       "\t<li>'timeBodyAccJerk.std().Z'</li>\n",
       "\t<li>'timeBodyGyro.mean().X'</li>\n",
       "\t<li>'timeBodyGyro.mean().Y'</li>\n",
       "\t<li>'timeBodyGyro.mean().Z'</li>\n",
       "\t<li>'timeBodyGyro.std().X'</li>\n",
       "\t<li>'timeBodyGyro.std().Y'</li>\n",
       "\t<li>'timeBodyGyro.std().Z'</li>\n",
       "\t<li>'timeBodyGyroJerk.mean().X'</li>\n",
       "\t<li>'timeBodyGyroJerk.mean().Y'</li>\n",
       "\t<li>'timeBodyGyroJerk.mean().Z'</li>\n",
       "\t<li>'timeBodyGyroJerk.std().X'</li>\n",
       "\t<li>'timeBodyGyroJerk.std().Y'</li>\n",
       "\t<li>'timeBodyGyroJerk.std().Z'</li>\n",
       "\t<li>'timeBodyAccMag.mean()'</li>\n",
       "\t<li>'timeBodyAccMag.std()'</li>\n",
       "\t<li>'timeGravityAccMag.mean()'</li>\n",
       "\t<li>'timeGravityAccMag.std()'</li>\n",
       "\t<li>'timeBodyAccJerkMag.mean()'</li>\n",
       "\t<li>'timeBodyAccJerkMag.std()'</li>\n",
       "\t<li>'timeBodyGyroMag.mean()'</li>\n",
       "\t<li>'timeBodyGyroMag.std()'</li>\n",
       "\t<li>'timeBodyGyroJerkMag.mean()'</li>\n",
       "\t<li>'timeBodyGyroJerkMag.std()'</li>\n",
       "\t<li>'freqBodyAcc.mean().X'</li>\n",
       "\t<li>'freqBodyAcc.mean().Y'</li>\n",
       "\t<li>'freqBodyAcc.mean().Z'</li>\n",
       "\t<li>'freqBodyAcc.stimed().X'</li>\n",
       "\t<li>'freqBodyAcc.stimed().Y'</li>\n",
       "\t<li>'freqBodyAcc.stimed().Z'</li>\n",
       "\t<li>'freqBodyAcc.meanFreq().X'</li>\n",
       "\t<li>'freqBodyAcc.meanFreq().Y'</li>\n",
       "\t<li>'freqBodyAcc.meanFreq().Z'</li>\n",
       "\t<li>'freqBodyAccJerk.mean().X'</li>\n",
       "\t<li>'freqBodyAccJerk.mean().Y'</li>\n",
       "\t<li>'freqBodyAccJerk.mean().Z'</li>\n",
       "\t<li>'freqBodyAccJerk.stimed().X'</li>\n",
       "\t<li>'freqBodyAccJerk.stimed().Y'</li>\n",
       "\t<li>'freqBodyAccJerk.stimed().Z'</li>\n",
       "\t<li>'freqBodyAccJerk.meanFreq().X'</li>\n",
       "\t<li>'freqBodyAccJerk.meanFreq().Y'</li>\n",
       "\t<li>'freqBodyAccJerk.meanFreq().Z'</li>\n",
       "\t<li>'freqBodyGyro.mean().X'</li>\n",
       "\t<li>'freqBodyGyro.mean().Y'</li>\n",
       "\t<li>'freqBodyGyro.mean().Z'</li>\n",
       "\t<li>'freqBodyGyro.stimed().X'</li>\n",
       "\t<li>'freqBodyGyro.stimed().Y'</li>\n",
       "\t<li>'freqBodyGyro.stimed().Z'</li>\n",
       "\t<li>'freqBodyGyro.meanFreq().X'</li>\n",
       "\t<li>'freqBodyGyro.meanFreq().Y'</li>\n",
       "\t<li>'freqBodyGyro.meanFreq().Z'</li>\n",
       "\t<li>'freqBodyAccMag.mean()'</li>\n",
       "\t<li>'freqBodyAccMag.stimed()'</li>\n",
       "\t<li>'freqBodyAccMag.meanFreq()'</li>\n",
       "\t<li>'freqBodyBodyAccJerkMag.mean()'</li>\n",
       "\t<li>'freqBodyBodyAccJerkMag.stimed()'</li>\n",
       "\t<li>'freqBodyBodyAccJerkMag.meanFreq()'</li>\n",
       "\t<li>'freqBodyBodyGyroMag.mean()'</li>\n",
       "\t<li>'freqBodyBodyGyroMag.stimed()'</li>\n",
       "\t<li>'freqBodyBodyGyroMag.meanFreq()'</li>\n",
       "\t<li>'freqBodyBodyGyroJerkMag.mean()'</li>\n",
       "\t<li>'freqBodyBodyGyroJerkMag.stimed()'</li>\n",
       "\t<li>'freqBodyBodyGyroJerkMag.meanFreq()'</li>\n",
       "</ol>\n"
      ],
      "text/latex": [
       "\\begin{enumerate*}\n",
       "\\item 'subject'\n",
       "\\item 'activityLabel'\n",
       "\\item 'timeBodyAcc.mean().X'\n",
       "\\item 'timeBodyAcc.mean().Y'\n",
       "\\item 'timeBodyAcc.mean().Z'\n",
       "\\item 'timeBodyAcc.std().X'\n",
       "\\item 'timeBodyAcc.std().Y'\n",
       "\\item 'timeBodyAcc.std().Z'\n",
       "\\item 'timeGravityAcc.mean().X'\n",
       "\\item 'timeGravityAcc.mean().Y'\n",
       "\\item 'timeGravityAcc.mean().Z'\n",
       "\\item 'timeGravityAcc.std().X'\n",
       "\\item 'timeGravityAcc.std().Y'\n",
       "\\item 'timeGravityAcc.std().Z'\n",
       "\\item 'timeBodyAccJerk.mean().X'\n",
       "\\item 'timeBodyAccJerk.mean().Y'\n",
       "\\item 'timeBodyAccJerk.mean().Z'\n",
       "\\item 'timeBodyAccJerk.std().X'\n",
       "\\item 'timeBodyAccJerk.std().Y'\n",
       "\\item 'timeBodyAccJerk.std().Z'\n",
       "\\item 'timeBodyGyro.mean().X'\n",
       "\\item 'timeBodyGyro.mean().Y'\n",
       "\\item 'timeBodyGyro.mean().Z'\n",
       "\\item 'timeBodyGyro.std().X'\n",
       "\\item 'timeBodyGyro.std().Y'\n",
       "\\item 'timeBodyGyro.std().Z'\n",
       "\\item 'timeBodyGyroJerk.mean().X'\n",
       "\\item 'timeBodyGyroJerk.mean().Y'\n",
       "\\item 'timeBodyGyroJerk.mean().Z'\n",
       "\\item 'timeBodyGyroJerk.std().X'\n",
       "\\item 'timeBodyGyroJerk.std().Y'\n",
       "\\item 'timeBodyGyroJerk.std().Z'\n",
       "\\item 'timeBodyAccMag.mean()'\n",
       "\\item 'timeBodyAccMag.std()'\n",
       "\\item 'timeGravityAccMag.mean()'\n",
       "\\item 'timeGravityAccMag.std()'\n",
       "\\item 'timeBodyAccJerkMag.mean()'\n",
       "\\item 'timeBodyAccJerkMag.std()'\n",
       "\\item 'timeBodyGyroMag.mean()'\n",
       "\\item 'timeBodyGyroMag.std()'\n",
       "\\item 'timeBodyGyroJerkMag.mean()'\n",
       "\\item 'timeBodyGyroJerkMag.std()'\n",
       "\\item 'freqBodyAcc.mean().X'\n",
       "\\item 'freqBodyAcc.mean().Y'\n",
       "\\item 'freqBodyAcc.mean().Z'\n",
       "\\item 'freqBodyAcc.stimed().X'\n",
       "\\item 'freqBodyAcc.stimed().Y'\n",
       "\\item 'freqBodyAcc.stimed().Z'\n",
       "\\item 'freqBodyAcc.meanFreq().X'\n",
       "\\item 'freqBodyAcc.meanFreq().Y'\n",
       "\\item 'freqBodyAcc.meanFreq().Z'\n",
       "\\item 'freqBodyAccJerk.mean().X'\n",
       "\\item 'freqBodyAccJerk.mean().Y'\n",
       "\\item 'freqBodyAccJerk.mean().Z'\n",
       "\\item 'freqBodyAccJerk.stimed().X'\n",
       "\\item 'freqBodyAccJerk.stimed().Y'\n",
       "\\item 'freqBodyAccJerk.stimed().Z'\n",
       "\\item 'freqBodyAccJerk.meanFreq().X'\n",
       "\\item 'freqBodyAccJerk.meanFreq().Y'\n",
       "\\item 'freqBodyAccJerk.meanFreq().Z'\n",
       "\\item 'freqBodyGyro.mean().X'\n",
       "\\item 'freqBodyGyro.mean().Y'\n",
       "\\item 'freqBodyGyro.mean().Z'\n",
       "\\item 'freqBodyGyro.stimed().X'\n",
       "\\item 'freqBodyGyro.stimed().Y'\n",
       "\\item 'freqBodyGyro.stimed().Z'\n",
       "\\item 'freqBodyGyro.meanFreq().X'\n",
       "\\item 'freqBodyGyro.meanFreq().Y'\n",
       "\\item 'freqBodyGyro.meanFreq().Z'\n",
       "\\item 'freqBodyAccMag.mean()'\n",
       "\\item 'freqBodyAccMag.stimed()'\n",
       "\\item 'freqBodyAccMag.meanFreq()'\n",
       "\\item 'freqBodyBodyAccJerkMag.mean()'\n",
       "\\item 'freqBodyBodyAccJerkMag.stimed()'\n",
       "\\item 'freqBodyBodyAccJerkMag.meanFreq()'\n",
       "\\item 'freqBodyBodyGyroMag.mean()'\n",
       "\\item 'freqBodyBodyGyroMag.stimed()'\n",
       "\\item 'freqBodyBodyGyroMag.meanFreq()'\n",
       "\\item 'freqBodyBodyGyroJerkMag.mean()'\n",
       "\\item 'freqBodyBodyGyroJerkMag.stimed()'\n",
       "\\item 'freqBodyBodyGyroJerkMag.meanFreq()'\n",
       "\\end{enumerate*}\n"
      ],
      "text/markdown": [
       "1. 'subject'\n",
       "2. 'activityLabel'\n",
       "3. 'timeBodyAcc.mean().X'\n",
       "4. 'timeBodyAcc.mean().Y'\n",
       "5. 'timeBodyAcc.mean().Z'\n",
       "6. 'timeBodyAcc.std().X'\n",
       "7. 'timeBodyAcc.std().Y'\n",
       "8. 'timeBodyAcc.std().Z'\n",
       "9. 'timeGravityAcc.mean().X'\n",
       "10. 'timeGravityAcc.mean().Y'\n",
       "11. 'timeGravityAcc.mean().Z'\n",
       "12. 'timeGravityAcc.std().X'\n",
       "13. 'timeGravityAcc.std().Y'\n",
       "14. 'timeGravityAcc.std().Z'\n",
       "15. 'timeBodyAccJerk.mean().X'\n",
       "16. 'timeBodyAccJerk.mean().Y'\n",
       "17. 'timeBodyAccJerk.mean().Z'\n",
       "18. 'timeBodyAccJerk.std().X'\n",
       "19. 'timeBodyAccJerk.std().Y'\n",
       "20. 'timeBodyAccJerk.std().Z'\n",
       "21. 'timeBodyGyro.mean().X'\n",
       "22. 'timeBodyGyro.mean().Y'\n",
       "23. 'timeBodyGyro.mean().Z'\n",
       "24. 'timeBodyGyro.std().X'\n",
       "25. 'timeBodyGyro.std().Y'\n",
       "26. 'timeBodyGyro.std().Z'\n",
       "27. 'timeBodyGyroJerk.mean().X'\n",
       "28. 'timeBodyGyroJerk.mean().Y'\n",
       "29. 'timeBodyGyroJerk.mean().Z'\n",
       "30. 'timeBodyGyroJerk.std().X'\n",
       "31. 'timeBodyGyroJerk.std().Y'\n",
       "32. 'timeBodyGyroJerk.std().Z'\n",
       "33. 'timeBodyAccMag.mean()'\n",
       "34. 'timeBodyAccMag.std()'\n",
       "35. 'timeGravityAccMag.mean()'\n",
       "36. 'timeGravityAccMag.std()'\n",
       "37. 'timeBodyAccJerkMag.mean()'\n",
       "38. 'timeBodyAccJerkMag.std()'\n",
       "39. 'timeBodyGyroMag.mean()'\n",
       "40. 'timeBodyGyroMag.std()'\n",
       "41. 'timeBodyGyroJerkMag.mean()'\n",
       "42. 'timeBodyGyroJerkMag.std()'\n",
       "43. 'freqBodyAcc.mean().X'\n",
       "44. 'freqBodyAcc.mean().Y'\n",
       "45. 'freqBodyAcc.mean().Z'\n",
       "46. 'freqBodyAcc.stimed().X'\n",
       "47. 'freqBodyAcc.stimed().Y'\n",
       "48. 'freqBodyAcc.stimed().Z'\n",
       "49. 'freqBodyAcc.meanFreq().X'\n",
       "50. 'freqBodyAcc.meanFreq().Y'\n",
       "51. 'freqBodyAcc.meanFreq().Z'\n",
       "52. 'freqBodyAccJerk.mean().X'\n",
       "53. 'freqBodyAccJerk.mean().Y'\n",
       "54. 'freqBodyAccJerk.mean().Z'\n",
       "55. 'freqBodyAccJerk.stimed().X'\n",
       "56. 'freqBodyAccJerk.stimed().Y'\n",
       "57. 'freqBodyAccJerk.stimed().Z'\n",
       "58. 'freqBodyAccJerk.meanFreq().X'\n",
       "59. 'freqBodyAccJerk.meanFreq().Y'\n",
       "60. 'freqBodyAccJerk.meanFreq().Z'\n",
       "61. 'freqBodyGyro.mean().X'\n",
       "62. 'freqBodyGyro.mean().Y'\n",
       "63. 'freqBodyGyro.mean().Z'\n",
       "64. 'freqBodyGyro.stimed().X'\n",
       "65. 'freqBodyGyro.stimed().Y'\n",
       "66. 'freqBodyGyro.stimed().Z'\n",
       "67. 'freqBodyGyro.meanFreq().X'\n",
       "68. 'freqBodyGyro.meanFreq().Y'\n",
       "69. 'freqBodyGyro.meanFreq().Z'\n",
       "70. 'freqBodyAccMag.mean()'\n",
       "71. 'freqBodyAccMag.stimed()'\n",
       "72. 'freqBodyAccMag.meanFreq()'\n",
       "73. 'freqBodyBodyAccJerkMag.mean()'\n",
       "74. 'freqBodyBodyAccJerkMag.stimed()'\n",
       "75. 'freqBodyBodyAccJerkMag.meanFreq()'\n",
       "76. 'freqBodyBodyGyroMag.mean()'\n",
       "77. 'freqBodyBodyGyroMag.stimed()'\n",
       "78. 'freqBodyBodyGyroMag.meanFreq()'\n",
       "79. 'freqBodyBodyGyroJerkMag.mean()'\n",
       "80. 'freqBodyBodyGyroJerkMag.stimed()'\n",
       "81. 'freqBodyBodyGyroJerkMag.meanFreq()'\n",
       "\n",
       "\n"
      ],
      "text/plain": [
       " [1] \"subject\"                            \"activityLabel\"                     \n",
       " [3] \"timeBodyAcc.mean().X\"               \"timeBodyAcc.mean().Y\"              \n",
       " [5] \"timeBodyAcc.mean().Z\"               \"timeBodyAcc.std().X\"               \n",
       " [7] \"timeBodyAcc.std().Y\"                \"timeBodyAcc.std().Z\"               \n",
       " [9] \"timeGravityAcc.mean().X\"            \"timeGravityAcc.mean().Y\"           \n",
       "[11] \"timeGravityAcc.mean().Z\"            \"timeGravityAcc.std().X\"            \n",
       "[13] \"timeGravityAcc.std().Y\"             \"timeGravityAcc.std().Z\"            \n",
       "[15] \"timeBodyAccJerk.mean().X\"           \"timeBodyAccJerk.mean().Y\"          \n",
       "[17] \"timeBodyAccJerk.mean().Z\"           \"timeBodyAccJerk.std().X\"           \n",
       "[19] \"timeBodyAccJerk.std().Y\"            \"timeBodyAccJerk.std().Z\"           \n",
       "[21] \"timeBodyGyro.mean().X\"              \"timeBodyGyro.mean().Y\"             \n",
       "[23] \"timeBodyGyro.mean().Z\"              \"timeBodyGyro.std().X\"              \n",
       "[25] \"timeBodyGyro.std().Y\"               \"timeBodyGyro.std().Z\"              \n",
       "[27] \"timeBodyGyroJerk.mean().X\"          \"timeBodyGyroJerk.mean().Y\"         \n",
       "[29] \"timeBodyGyroJerk.mean().Z\"          \"timeBodyGyroJerk.std().X\"          \n",
       "[31] \"timeBodyGyroJerk.std().Y\"           \"timeBodyGyroJerk.std().Z\"          \n",
       "[33] \"timeBodyAccMag.mean()\"              \"timeBodyAccMag.std()\"              \n",
       "[35] \"timeGravityAccMag.mean()\"           \"timeGravityAccMag.std()\"           \n",
       "[37] \"timeBodyAccJerkMag.mean()\"          \"timeBodyAccJerkMag.std()\"          \n",
       "[39] \"timeBodyGyroMag.mean()\"             \"timeBodyGyroMag.std()\"             \n",
       "[41] \"timeBodyGyroJerkMag.mean()\"         \"timeBodyGyroJerkMag.std()\"         \n",
       "[43] \"freqBodyAcc.mean().X\"               \"freqBodyAcc.mean().Y\"              \n",
       "[45] \"freqBodyAcc.mean().Z\"               \"freqBodyAcc.stimed().X\"            \n",
       "[47] \"freqBodyAcc.stimed().Y\"             \"freqBodyAcc.stimed().Z\"            \n",
       "[49] \"freqBodyAcc.meanFreq().X\"           \"freqBodyAcc.meanFreq().Y\"          \n",
       "[51] \"freqBodyAcc.meanFreq().Z\"           \"freqBodyAccJerk.mean().X\"          \n",
       "[53] \"freqBodyAccJerk.mean().Y\"           \"freqBodyAccJerk.mean().Z\"          \n",
       "[55] \"freqBodyAccJerk.stimed().X\"         \"freqBodyAccJerk.stimed().Y\"        \n",
       "[57] \"freqBodyAccJerk.stimed().Z\"         \"freqBodyAccJerk.meanFreq().X\"      \n",
       "[59] \"freqBodyAccJerk.meanFreq().Y\"       \"freqBodyAccJerk.meanFreq().Z\"      \n",
       "[61] \"freqBodyGyro.mean().X\"              \"freqBodyGyro.mean().Y\"             \n",
       "[63] \"freqBodyGyro.mean().Z\"              \"freqBodyGyro.stimed().X\"           \n",
       "[65] \"freqBodyGyro.stimed().Y\"            \"freqBodyGyro.stimed().Z\"           \n",
       "[67] \"freqBodyGyro.meanFreq().X\"          \"freqBodyGyro.meanFreq().Y\"         \n",
       "[69] \"freqBodyGyro.meanFreq().Z\"          \"freqBodyAccMag.mean()\"             \n",
       "[71] \"freqBodyAccMag.stimed()\"            \"freqBodyAccMag.meanFreq()\"         \n",
       "[73] \"freqBodyBodyAccJerkMag.mean()\"      \"freqBodyBodyAccJerkMag.stimed()\"   \n",
       "[75] \"freqBodyBodyAccJerkMag.meanFreq()\"  \"freqBodyBodyGyroMag.mean()\"        \n",
       "[77] \"freqBodyBodyGyroMag.stimed()\"       \"freqBodyBodyGyroMag.meanFreq()\"    \n",
       "[79] \"freqBodyBodyGyroJerkMag.mean()\"     \"freqBodyBodyGyroJerkMag.stimed()\"  \n",
       "[81] \"freqBodyBodyGyroJerkMag.meanFreq()\""
      ]
     },
     "metadata": {},
     "output_type": "display_data"
    }
   ],
   "source": [
    "names(tidy_data)"
   ]
  },
  {
   "cell_type": "code",
   "execution_count": 33,
   "metadata": {},
   "outputs": [],
   "source": [
    "write.table(tidy_data, file = \"tidyData.txt\", row.names = FALSE)"
   ]
  },
  {
   "cell_type": "code",
   "execution_count": null,
   "metadata": {},
   "outputs": [],
   "source": []
  }
 ],
 "metadata": {
  "kernelspec": {
   "display_name": "R",
   "language": "R",
   "name": "ir"
  },
  "language_info": {
   "codemirror_mode": "r",
   "file_extension": ".r",
   "mimetype": "text/x-r-source",
   "name": "R",
   "pygments_lexer": "r",
   "version": "3.6.1"
  }
 },
 "nbformat": 4,
 "nbformat_minor": 4
}
